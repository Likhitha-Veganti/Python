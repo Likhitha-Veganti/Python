{
 "cells": [
  {
   "cell_type": "markdown",
   "metadata": {},
   "source": [
    "# Variable\n",
    "Variable is name of a memory location which stores some value"
   ]
  },
  {
   "cell_type": "code",
   "execution_count": 1,
   "metadata": {},
   "outputs": [
    {
     "name": "stdout",
     "output_type": "stream",
     "text": [
      "10\n",
      "20\n",
      "Indian Servers\n"
     ]
    }
   ],
   "source": [
    "a = 10\n",
    "print(a)\n",
    "# a is a variable refers to the value 10\n",
    "a = 20\n",
    "print(a)\n",
    "# Now, a refers to value 20\n",
    "a = \"Indian Servers\"\n",
    "print(a)\n",
    "# Now, a refers to the string 'Indian Servers'"
   ]
  },
  {
   "cell_type": "code",
   "execution_count": 2,
   "metadata": {},
   "outputs": [
    {
     "name": "stdout",
     "output_type": "stream",
     "text": [
      "Indian Servers\n"
     ]
    }
   ],
   "source": [
    "# Variable takes it's recent location\n",
    "a=10\n",
    "a=20\n",
    "a=\"Indian Servers\"\n",
    "print(a)             "
   ]
  },
  {
   "cell_type": "code",
   "execution_count": 3,
   "metadata": {},
   "outputs": [
    {
     "name": "stdout",
     "output_type": "stream",
     "text": [
      "Indian ServersSoftware\n"
     ]
    }
   ],
   "source": [
    "# '+' operator concatinates the strings\n",
    "a=\"Indian Servers\"\n",
    "b=\"Software\"\n",
    "print(a+b)      "
   ]
  },
  {
   "cell_type": "markdown",
   "metadata": {},
   "source": [
    "### Some in-built functions\n",
    "###### 1.abs()"
   ]
  },
  {
   "cell_type": "code",
   "execution_count": 4,
   "metadata": {},
   "outputs": [
    {
     "name": "stdout",
     "output_type": "stream",
     "text": [
      "2.55\n",
      "2.55033\n"
     ]
    }
   ],
   "source": [
    "# abs() is used to print absolute value.\n",
    "a = 2.5500\n",
    "b = -2.55033\n",
    "print(abs(a))\n",
    "print(abs(b))"
   ]
  },
  {
   "cell_type": "markdown",
   "metadata": {},
   "source": [
    "###### 2.pow()"
   ]
  },
  {
   "cell_type": "code",
   "execution_count": 5,
   "metadata": {},
   "outputs": [
    {
     "name": "stdout",
     "output_type": "stream",
     "text": [
      "16\n"
     ]
    }
   ],
   "source": [
    "# pow(a,b) is used to print a**b\n",
    "a=2\n",
    "b=4\n",
    "print(pow(a,b))"
   ]
  },
  {
   "cell_type": "markdown",
   "metadata": {},
   "source": [
    "###### 3.max() , min()"
   ]
  },
  {
   "cell_type": "code",
   "execution_count": 6,
   "metadata": {},
   "outputs": [
    {
     "name": "stdout",
     "output_type": "stream",
     "text": [
      "88\n",
      "44\n"
     ]
    }
   ],
   "source": [
    "marks=(44,55,66,88,56)\n",
    "print(max(marks))           # max() used to find maximum value\n",
    "print(min(marks))           # min() used to find minimum value"
   ]
  },
  {
   "cell_type": "markdown",
   "metadata": {},
   "source": [
    "###### 4.bin() , hex() , oct()"
   ]
  },
  {
   "cell_type": "code",
   "execution_count": 7,
   "metadata": {},
   "outputs": [
    {
     "name": "stdout",
     "output_type": "stream",
     "text": [
      "0b101101\n",
      "0x2d\n",
      "0o55\n"
     ]
    }
   ],
   "source": [
    "a=45\n",
    "print(bin(a))         # bin() gives binary value\n",
    "print(hex(a))         # hex() gives hexadecimal value\n",
    "print(oct(a))         # oct() gives octal value"
   ]
  },
  {
   "cell_type": "markdown",
   "metadata": {},
   "source": [
    "### Some mathematical operations\n",
    "Import math library to perform these mathematical operations"
   ]
  },
  {
   "cell_type": "code",
   "execution_count": 8,
   "metadata": {},
   "outputs": [
    {
     "name": "stdout",
     "output_type": "stream",
     "text": [
      "2.0\n",
      "5.0\n"
     ]
    }
   ],
   "source": [
    "import math\n",
    "a=4\n",
    "print(math.sqrt(b))     #sqrt() gives square root value\n",
    "print(math.sqrt(25.0))"
   ]
  },
  {
   "cell_type": "code",
   "execution_count": 9,
   "metadata": {},
   "outputs": [
    {
     "name": "stdout",
     "output_type": "stream",
     "text": [
      "1.3862943611198906\n",
      "0.6020599913279624\n",
      "54.598150033144236\n",
      "10\n",
      "9\n",
      "(0.0, 4.0)\n"
     ]
    }
   ],
   "source": [
    "# Some mathematical operations\n",
    "\n",
    "import math\n",
    "a = 4\n",
    "b = 9.7\n",
    "print(math.log(a))\n",
    "print(math.log10(a))\n",
    "print(math.exp(a))\n",
    "print(math.ceil(b))\n",
    "print(math.floor(b))\n",
    "print(math.modf(a))"
   ]
  },
  {
   "cell_type": "code",
   "execution_count": 10,
   "metadata": {},
   "outputs": [
    {
     "name": "stdout",
     "output_type": "stream",
     "text": [
      "0.8509035245341184\n",
      "0.5253219888177297\n",
      "1.6197751905438615\n",
      "1.7467135528742547e+19\n",
      "1.7467135528742547e+19\n",
      "1.0\n",
      "0.0\n",
      "1.5707963267948966\n",
      "1.5485777614681775\n"
     ]
    }
   ],
   "source": [
    "# Some trignometric mathematical operations\n",
    "a=45\n",
    "b=90\n",
    "print(math.sin(a))\n",
    "print(math.cos(a))\n",
    "print(math.tan(a))\n",
    "print(math.sinh(a))\n",
    "print(math.cosh(a))\n",
    "print(math.tanh(a))\n",
    "print(math.asin(0))\n",
    "print(math.acos(0))\n",
    "print(math.atan(a))"
   ]
  },
  {
   "cell_type": "markdown",
   "metadata": {},
   "source": [
    "# Classes & Objects\n",
    "Python supports 3 types of Programming paradigms\n",
    "\n",
    "* Object Oriented programming paradigms\n",
    "* Procedure Oriented programming paradigms\n",
    "* Functional programming paradigms\n",
    "\n",
    "Almost, Everything in python is an object with it's properties and methods."
   ]
  },
  {
   "cell_type": "markdown",
   "metadata": {},
   "source": [
    "### Class\n",
    "  A Class is an extensible program-code-templete for creating objects, providing initial values for state(member variables) and   implementations of behavior (member functions or methods).\n",
    "### Object\n",
    "  An Object is an instance of the class, and the member variables specific to the object are called instance variables, to         contrast with the class variables shared accross the class.\n",
    "#### Example\n",
    "* Human is Class \n",
    "* Amitabh Batchan or Trump are the instances of the class 'Human'"
   ]
  },
  {
   "cell_type": "markdown",
   "metadata": {},
   "source": [
    "# Keywords\n",
    "Keywords are reserved words which should not be used as variable name or function name or any identifier name.\n",
    "They are used to define the structure & syntax of Programming language."
   ]
  },
  {
   "cell_type": "markdown",
   "metadata": {},
   "source": [
    "### Python has 33 keywords\n",
    "* and      -  A logical operator\n",
    "* as       -  To create an alias\n",
    "* assert   - For debugging\n",
    "* break    - To break out of a loop\n",
    "* class    - To define a class\n",
    "* continue - To continue to the next iteration of the loop\n",
    "* def      - To define a function\n",
    "* del      - To delete an object\n",
    "* elif     - Used in conditional statements, same as else if\n",
    "* else     - Used in conditional statements\n",
    "* except   - Used with exception, what to do when an exception occurs\n",
    "* False    - Boolean value, result of comparison operations\n",
    "* finally  - Used with exception, a block of code that will be executed no matter if there is an exception or not\n",
    "* for      - To create a for loop\n",
    "* from     - To import specific parts of a module\n",
    "* global   - To declare a global variable\n",
    "* if       - To make a conditional statement\n",
    "* import   - To import a module\n",
    "* in       - To checkk if a value in a list,tuple,etc.\n",
    "* is       - To test if two variables are equal\n",
    "* lambda   - To create an anonymous function\n",
    "* None     - Represents a null value\n",
    "* nonlocal - To declare a non local variable\n",
    "* not      - A logical operator\n",
    "* or       - A logical operator\n",
    "* pass     - A null statement, a statement that will do nothing\n",
    "* raise    - To raise an exception\n",
    "* return   - To exit a function and return a value\n",
    "* True     - Boolean value, result of comparison operations\n",
    "* try      - To make a try...except statement\n",
    "* while    - To create a while loop\n",
    "* with     - Used to simplify exception handling\n",
    "* yield    - To end a function, returns a generator"
   ]
  },
  {
   "cell_type": "markdown",
   "metadata": {},
   "source": [
    "# Python Operators\n",
    "Used to perform operations on variables or values\n",
    "* Arithmetic Operators\n",
    "* Assignmnet Operators\n",
    "* Comparison Operators\n",
    "* Logical Operators\n",
    "* Identity Operators\n",
    "* Membership Operators\n",
    "* Bitwise Operators\n"
   ]
  },
  {
   "cell_type": "markdown",
   "metadata": {},
   "source": [
    "### 1.Arithmetic Operators\n",
    "Used to perform mathematical operations"
   ]
  },
  {
   "cell_type": "code",
   "execution_count": 11,
   "metadata": {},
   "outputs": [
    {
     "name": "stdout",
     "output_type": "stream",
     "text": [
      "6\n",
      "-2\n",
      "8\n",
      "0.5\n",
      "0\n",
      "2\n",
      "16\n"
     ]
    }
   ],
   "source": [
    "x=2\n",
    "y=4\n",
    "print(x+y)  # Addition\n",
    "print(x-y)  # Subtraction\n",
    "print(x*y)  # Multiplication\n",
    "print(x/y)  # Division\n",
    "print(x//y) # Floor Division\n",
    "print(x%y)  # Modulus\n",
    "print(x**y) # Exponentiation"
   ]
  },
  {
   "cell_type": "markdown",
   "metadata": {},
   "source": [
    "### 2.Assignment Operations\n",
    "Used to assign values to the variables"
   ]
  },
  {
   "cell_type": "code",
   "execution_count": 12,
   "metadata": {},
   "outputs": [
    {
     "name": "stdout",
     "output_type": "stream",
     "text": [
      "5\n",
      "6\n",
      "5\n",
      "10\n",
      "5.0\n",
      "1.0\n",
      "0.0\n"
     ]
    }
   ],
   "source": [
    "z = 5        # z=5\n",
    "print(z)\n",
    "z += 1       # z=z+1\n",
    "print(z)\n",
    "z -=1        # z=z-1\n",
    "print(z)\n",
    "z *=2        # z=z*2\n",
    "print(z)\n",
    "z /=2        # z=z/2\n",
    "print(z)\n",
    "z %= 2       # z=z%2\n",
    "print(z)\n",
    "z //=2       # z=z//2\n",
    "print(z)"
   ]
  },
  {
   "cell_type": "markdown",
   "metadata": {},
   "source": [
    "### 3.Comparison Operators\n",
    "Used to compare two values or variables"
   ]
  },
  {
   "cell_type": "code",
   "execution_count": 13,
   "metadata": {},
   "outputs": [
    {
     "name": "stdout",
     "output_type": "stream",
     "text": [
      "False\n",
      "True\n",
      "False\n",
      "True\n",
      "False\n",
      "True\n"
     ]
    }
   ],
   "source": [
    "x=2\n",
    "y=4\n",
    "print(x==y)   # Equal\n",
    "print(x!=y)   # Not equal\n",
    "print(x>y)    # Greater than\n",
    "print(x<y)    # Less than\n",
    "print(x>=y)   # Greater than or equal to\n",
    "print(x<=y)   # Less than or equal to"
   ]
  },
  {
   "cell_type": "markdown",
   "metadata": {},
   "source": [
    "### 4.Logical Operators\n",
    "Used to combine conditional statements\n",
    "* and\n",
    "* or\n",
    "* not"
   ]
  },
  {
   "cell_type": "code",
   "execution_count": 14,
   "metadata": {},
   "outputs": [
    {
     "name": "stdout",
     "output_type": "stream",
     "text": [
      "False\n",
      "True\n",
      "False\n"
     ]
    }
   ],
   "source": [
    "x = 9\n",
    "print(x<5 and x>10)      # and\n",
    "print(x<15 or x>5)       # or\n",
    "print(not(x<15 or x>5))  # not"
   ]
  },
  {
   "cell_type": "markdown",
   "metadata": {},
   "source": [
    "### 5.Identity Operators\n",
    "Used to compare the objects if they are equal but, if they are same objects in same memory location\n",
    "* is\n",
    "* is not"
   ]
  },
  {
   "cell_type": "code",
   "execution_count": 15,
   "metadata": {},
   "outputs": [
    {
     "name": "stdout",
     "output_type": "stream",
     "text": [
      "True\n",
      "False\n",
      "False\n",
      "True\n"
     ]
    }
   ],
   "source": [
    "x = 10\n",
    "y = 10\n",
    "z = '10'\n",
    "print(x is y)        # is\n",
    "print(x is not y)    # is not\n",
    "print(z is x)        # is\n",
    "print(z is not x)    # is not"
   ]
  },
  {
   "cell_type": "markdown",
   "metadata": {},
   "source": [
    "### 6.Membership Operators\n",
    "Used to test if a sequence is present in an object\n",
    "* in\n",
    "* not in"
   ]
  },
  {
   "cell_type": "code",
   "execution_count": 16,
   "metadata": {},
   "outputs": [
    {
     "name": "stdout",
     "output_type": "stream",
     "text": [
      "True\n",
      "False\n",
      "False\n",
      "True\n"
     ]
    }
   ],
   "source": [
    "y=[10,20,30,40]\n",
    "x=10\n",
    "z=50\n",
    "print(x in y)        # in\n",
    "print(x not in y)    # not in\n",
    "print(z in y)        # in\n",
    "print(z not in y)    # not in"
   ]
  },
  {
   "cell_type": "markdown",
   "metadata": {},
   "source": [
    "### 7.Bitwise Operators\n",
    "Used to combine binary members\n",
    "* AND\n",
    "* OR\n",
    "* XOR\n",
    "* NOT\n",
    "* ZERO FILL LEFT SHIFT\n",
    "* SIGNED RIGTH SHIFT"
   ]
  },
  {
   "cell_type": "code",
   "execution_count": 17,
   "metadata": {},
   "outputs": [
    {
     "name": "stdout",
     "output_type": "stream",
     "text": [
      "16\n",
      "16\n",
      "0\n",
      "-17\n",
      "32\n",
      "8\n"
     ]
    }
   ],
   "source": [
    "x = 16\n",
    "y = 16\n",
    "print(x & y)    # Bitwise AND - &\n",
    "print(x | y)    # Bitwise OR - |\n",
    "print(x ^ y)    # Bitwise XOR - ^\n",
    "print(~x)       # Bitwise NOT - ~\n",
    "print(x<<1)     # Zero fill left shift\n",
    "print(x>>1)     # Signed right shift"
   ]
  },
  {
   "cell_type": "markdown",
   "metadata": {},
   "source": [
    "# Data Types\n",
    "###   1.Bluit in Data Types\n",
    "* int\n",
    "* float\n",
    "* complex\n",
    "* bool\n",
    "* str\n",
    "* bytes"
   ]
  },
  {
   "cell_type": "code",
   "execution_count": 18,
   "metadata": {},
   "outputs": [
    {
     "name": "stdout",
     "output_type": "stream",
     "text": [
      "<class 'int'>\n",
      "10\n",
      "<class 'float'>\n",
      "10.5\n",
      "<class 'complex'>\n",
      "(10+6j)\n",
      "<class 'complex'>\n",
      "(10+6j)\n",
      "<class 'bool'>\n",
      "True\n",
      "<class 'str'>\n",
      "Indian Servers\n",
      "<class 'bytes'>\n",
      "b'\\x00\\x00\\x00\\x00\\x00\\x00\\x00\\x00\\x00\\x00'\n"
     ]
    }
   ],
   "source": [
    "x = 10               # int\n",
    "print(type(x))\n",
    "print(x)\n",
    "x = 10.5            # float\n",
    "print(type(x))\n",
    "print(x)\n",
    "x = 10+6j           # complex\n",
    "y = 10+6J\n",
    "print(type(x))\n",
    "print(x)\n",
    "print(type(y))\n",
    "print(y)\n",
    "x=True              # boolean\n",
    "print(type(x))\n",
    "print(x)\n",
    "x=\"Indian Servers\"  # string\n",
    "print(type(x))\n",
    "print(x)\n",
    "x= bytes(10)        # bytes\n",
    "print(type(x))\n",
    "print(x)"
   ]
  },
  {
   "cell_type": "code",
   "execution_count": 19,
   "metadata": {},
   "outputs": [
    {
     "name": "stdout",
     "output_type": "stream",
     "text": [
      "<class 'str'>\n",
      "తెలుగు,മലയാളം,ಕನ್ನಡ,हिंदी,বাংলা\n"
     ]
    }
   ],
   "source": [
    "# Python supports unicode\n",
    "x=\"తెలుగు,മലയാളം,ಕನ್ನಡ,\\\n",
    "हिंदी,\\\n",
    "বাংলা\"            # \\ Blackslash is used to add new line in a string           \n",
    "print(type(x))\n",
    "print(x)"
   ]
  },
  {
   "cell_type": "markdown",
   "metadata": {},
   "source": [
    "### 2.Container Data Types\n",
    "* list\n",
    "* Tuple\n",
    "* dict\n",
    "* set"
   ]
  },
  {
   "cell_type": "markdown",
   "metadata": {},
   "source": [
    "### 3.User also can define own data types called class"
   ]
  }
 ],
 "metadata": {
  "kernelspec": {
   "display_name": "Python 3",
   "language": "python",
   "name": "python3"
  },
  "language_info": {
   "codemirror_mode": {
    "name": "ipython",
    "version": 3
   },
   "file_extension": ".py",
   "mimetype": "text/x-python",
   "name": "python",
   "nbconvert_exporter": "python",
   "pygments_lexer": "ipython3",
   "version": "3.8.3"
  }
 },
 "nbformat": 4,
 "nbformat_minor": 4
}
