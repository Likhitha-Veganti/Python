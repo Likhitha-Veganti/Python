{
 "cells": [
  {
   "cell_type": "markdown",
   "metadata": {},
   "source": [
    "# Strings\n",
    "Strings are collection of unicode characters."
   ]
  },
  {
   "cell_type": "code",
   "execution_count": 1,
   "metadata": {},
   "outputs": [
    {
     "name": "stdout",
     "output_type": "stream",
     "text": [
      "India/भारत was richest country before british occupied\n"
     ]
    }
   ],
   "source": [
    "s=\"India/भारत was richest country before british occupied\"\n",
    "print(s)"
   ]
  },
  {
   "cell_type": "markdown",
   "metadata": {},
   "source": [
    "#### Strings are placed in Between\n",
    "*  'Single Quote'\n",
    "*  \"Double Quote\"\n",
    "*  '''3 Single Quotes'''\n",
    "*  \"\"\"3 Double Quotes\"\"\""
   ]
  },
  {
   "cell_type": "code",
   "execution_count": 2,
   "metadata": {},
   "outputs": [
    {
     "name": "stdout",
     "output_type": "stream",
     "text": [
      "India/भारत was richest country ' before british occupied\n",
      "India/भारत was richest country \" before british occupied\n"
     ]
    }
   ],
   "source": [
    "# To print any quotes in the line, use blackward slash \\\n",
    "s=\"India/भारत was richest country \\' before british occupied\"\n",
    "print(s)\n",
    "s=\"India/भारत was richest country \\\" before british occupied\"\n",
    "print(s)"
   ]
  },
  {
   "cell_type": "code",
   "execution_count": 3,
   "metadata": {},
   "outputs": [
    {
     "name": "stdout",
     "output_type": "stream",
     "text": [
      "India/भारत was richest country \\ before british occupied\n",
      "India/भारत was richest country \\' before british occupied\n"
     ]
    }
   ],
   "source": [
    "# To print blackward slash \\ in the sentence, use 2 blackward slashes \\\\\n",
    "s=\"India/भारत was richest country \\\\ before british occupied\"\n",
    "print(s)\n",
    "s=\"India/भारत was richest country \\\\' before british occupied\"\n",
    "print(s)"
   ]
  },
  {
   "cell_type": "code",
   "execution_count": 4,
   "metadata": {},
   "outputs": [
    {
     "name": "stdout",
     "output_type": "stream",
     "text": [
      "India/भारत was richest country \\ before british occupied\n"
     ]
    }
   ],
   "source": [
    "# Otherwise we can also add 'r' before the string to consider it as a raw string\n",
    "s=r\"India/भारत was richest country \\ before british occupied\"\n",
    "print(s)"
   ]
  },
  {
   "cell_type": "code",
   "execution_count": 5,
   "metadata": {},
   "outputs": [
    {
     "name": "stdout",
     "output_type": "stream",
     "text": [
      "India/भारत was richest country before british occupied Second row Third row\n"
     ]
    }
   ],
   "source": [
    "# if we want to take from more lines for a string, we can use blackward slash \\ and then enter\n",
    "s=\"India/भारत was richest country before british occupied \\\n",
    "Second row \\\n",
    "Third row\"\n",
    "print(s)"
   ]
  },
  {
   "cell_type": "code",
   "execution_count": 6,
   "metadata": {},
   "outputs": [
    {
     "name": "stdout",
     "output_type": "stream",
     "text": [
      "India/भारत was richest country before british occupied\n",
      "Second row\n",
      "Third row\n"
     ]
    }
   ],
   "source": [
    "# we can use ''' or \"\"\" to take multiple lines of string and write in multiple lines\n",
    "s=\"\"\"India/भारत was richest country before british occupied\n",
    "Second row\n",
    "Third row\"\"\"\n",
    "print(s)"
   ]
  },
  {
   "cell_type": "code",
   "execution_count": 7,
   "metadata": {},
   "outputs": [
    {
     "name": "stdout",
     "output_type": "stream",
     "text": [
      "I\n",
      "n\n",
      "/\n",
      "ा\n"
     ]
    }
   ],
   "source": [
    "# We can read specific character of the string...Remember index starts with 0.\n",
    "s=\"India/भारत was richest country before british occupied\"\n",
    "print(s[0])\n",
    "print(s[1])\n",
    "print(s[5])\n",
    "print(s[7])"
   ]
  },
  {
   "cell_type": "code",
   "execution_count": 8,
   "metadata": {},
   "outputs": [
    {
     "name": "stdout",
     "output_type": "stream",
     "text": [
      "d\n",
      "u\n",
      " \n",
      "h\n"
     ]
    }
   ],
   "source": [
    "# To get from backward of a string,we can use -\n",
    "s=\"India/भारत was richest country before british occupied\"\n",
    "print(s[-1])\n",
    "print(s[-5])\n",
    "print(s[-9])\n",
    "print(s[-10])"
   ]
  },
  {
   "cell_type": "markdown",
   "metadata": {},
   "source": [
    "# Strings Slicing"
   ]
  },
  {
   "cell_type": "code",
   "execution_count": 9,
   "metadata": {},
   "outputs": [
    {
     "name": "stdout",
     "output_type": "stream",
     "text": [
      "India\n"
     ]
    }
   ],
   "source": [
    "# we can also call strings from one character upto another character\n",
    "s=\"India/भारत was richest country before british occupied\"\n",
    "print(s[0:5])   # from s[0] upto s[5] , including s[0] & excluding s[5]"
   ]
  },
  {
   "cell_type": "code",
   "execution_count": 10,
   "metadata": {},
   "outputs": [
    {
     "name": "stdout",
     "output_type": "stream",
     "text": [
      "upied\n"
     ]
    }
   ],
   "source": [
    "# we can also call strings from back.\n",
    "s=\"India/भारत was richest country before british occupied\"\n",
    "print(s[-5:])  # It gives last 5 characters i.e, -5 position to last of the string"
   ]
  },
  {
   "cell_type": "code",
   "execution_count": 11,
   "metadata": {},
   "outputs": [
    {
     "name": "stdout",
     "output_type": "stream",
     "text": [
      "1\n",
      "6\n",
      "9\n",
      "5\n"
     ]
    }
   ],
   "source": [
    "s=\"123456789\"\n",
    "print(s[0])\n",
    "print(s[5])\n",
    "print(s[-1])\n",
    "print(s[-5])"
   ]
  },
  {
   "cell_type": "code",
   "execution_count": 12,
   "metadata": {},
   "outputs": [
    {
     "name": "stdout",
     "output_type": "stream",
     "text": [
      "12345\n"
     ]
    }
   ],
   "source": [
    "s=s=\"123456789\"\n",
    "print(s[0:5])  # from s[0] upto s[5] excluding s[5]"
   ]
  },
  {
   "cell_type": "code",
   "execution_count": 13,
   "metadata": {},
   "outputs": [
    {
     "name": "stdout",
     "output_type": "stream",
     "text": [
      "12345\n"
     ]
    }
   ],
   "source": [
    "# If we don't give start index,it will print from starting\n",
    "s=\"123456789\"\n",
    "print(s[:5])  # from start upto s[5] excluding s[5]"
   ]
  },
  {
   "cell_type": "code",
   "execution_count": 14,
   "metadata": {},
   "outputs": [
    {
     "name": "stdout",
     "output_type": "stream",
     "text": [
      "6789\n"
     ]
    }
   ],
   "source": [
    "# If we don't give last index,it will print till end of string\n",
    "s=\"123456789\"\n",
    "print(s[5:])  # from s[5] to last of the string"
   ]
  },
  {
   "cell_type": "code",
   "execution_count": 15,
   "metadata": {},
   "outputs": [
    {
     "name": "stdout",
     "output_type": "stream",
     "text": [
      "5678\n"
     ]
    }
   ],
   "source": [
    "s=\"123456789\"\n",
    "print(s[-5:-1])  # from s[-5] upto last one ,excluding last one"
   ]
  },
  {
   "cell_type": "code",
   "execution_count": 16,
   "metadata": {},
   "outputs": [
    {
     "name": "stdout",
     "output_type": "stream",
     "text": [
      "1234\n"
     ]
    }
   ],
   "source": [
    "s=\"123456789\"\n",
    "print(s[:-5]) # from start to s[-5] excluding s[-5]"
   ]
  },
  {
   "cell_type": "markdown",
   "metadata": {},
   "source": [
    "# String Operations\n",
    "We can perform different kinds of activities or operations on the strings like comparing two or more strings, check whether there are any numbers in string or not, converting a string to upper case or to lower case and total length of the string etc.\n",
    "One example is given below"
   ]
  },
  {
   "cell_type": "code",
   "execution_count": 17,
   "metadata": {},
   "outputs": [
    {
     "name": "stdout",
     "output_type": "stream",
     "text": [
      "HelloWorld\n",
      "HelloHelloHelloHelloHelloHelloHelloHelloHelloHello\n",
      "HelloWorld\n"
     ]
    }
   ],
   "source": [
    "a=\"Hello\"\n",
    "b=\"World\"\n",
    "c=a+b        # concatinates a and b and assigns it to c \n",
    "print(a+b)   # concatinates a and b\n",
    "print(a*10)  # prints a for 10 times\n",
    "print(c)"
   ]
  },
  {
   "cell_type": "markdown",
   "metadata": {},
   "source": [
    "# String Functions"
   ]
  },
  {
   "cell_type": "code",
   "execution_count": 18,
   "metadata": {},
   "outputs": [
    {
     "name": "stdout",
     "output_type": "stream",
     "text": [
      "Abc123\n",
      "True\n",
      "False\n",
      "False\n",
      "True\n",
      "False\n",
      "False\n"
     ]
    }
   ],
   "source": [
    "a=\"Abc123\"\n",
    "print(a)\n",
    "print(a.isalnum())     # checks alpha numeric\n",
    "print(a.isdecimal())   # checks if it is only decimal\n",
    "print(a.islower())     # checks if it is lower case\n",
    "print(a.isprintable()) # checks if it is printable\n",
    "print(a.isdigit())     # checks if it is only digit \n",
    "print(a.isspace())     # checks if it is space"
   ]
  },
  {
   "cell_type": "code",
   "execution_count": 19,
   "metadata": {},
   "outputs": [
    {
     "name": "stdout",
     "output_type": "stream",
     "text": [
      "123\n",
      "True\n",
      "True\n",
      "False\n",
      "True\n",
      "True\n",
      "False\n"
     ]
    }
   ],
   "source": [
    "a=\"123\"\n",
    "print(a)\n",
    "print(a.isalnum())     # checks alpha numeric\n",
    "print(a.isdecimal())   # checks if it is only decimal\n",
    "print(a.islower())     # checks if it is lower case\n",
    "print(a.isprintable()) # checks if it is printable\n",
    "print(a.isdigit())     # checks if it is only digit \n",
    "print(a.isspace())     # checks if it is space"
   ]
  },
  {
   "cell_type": "code",
   "execution_count": 20,
   "metadata": {},
   "outputs": [
    {
     "name": "stdout",
     "output_type": "stream",
     "text": [
      "abc\n",
      "True\n",
      "False\n",
      "True\n",
      "True\n",
      "False\n",
      "False\n"
     ]
    }
   ],
   "source": [
    "a=\"abc\"\n",
    "print(a)\n",
    "print(a.isalnum())     # checks alpha numeric\n",
    "print(a.isdecimal())   # checks if it is only decimal\n",
    "print(a.islower())     # checks if it is lower case\n",
    "print(a.isprintable()) # checks if it is printable\n",
    "print(a.isdigit())     # checks if it is only digit \n",
    "print(a.isspace())     # checks if it is space"
   ]
  },
  {
   "cell_type": "markdown",
   "metadata": {},
   "source": [
    "### Some String functions\n",
    "capitalize()  - Converts the first character to upper case <br>\n",
    "casefold()    - Converts string into lower case <br>\n",
    "center()      - Returns a centered string<br>\n",
    "count()       - Returns the number of times a specified value occurs in a string<br>\n",
    "encode()      - Returns an encoded version of the string<br>\n",
    "endswith()    - Returns true if the string ends with the specified value<br>\n",
    "expandtabs()  - Sets the tab size of the string<br>\n",
    "find()        - Searches the string for a specified value and returns the position of where it was found<br>\n",
    "format()      - Formats specified values in a string<br>\n",
    "format_map()  - Formats specified values in a string<br>\n",
    "index()       - Searches the string for a specified value and returns the position of where it was found<br>\n",
    "isalnum()     - Returns True if all characters in the string are alphanumeric<br>\n",
    "isalpha()     - Returns True if all characters in the string are in the alphabet<br>\n",
    "isdecimal()   - Returns True if all characters in the string are decimals<br>\n",
    "isdigit()     - Returns True if all characters in the string are digits<br>\n",
    "isidentifier()- Returns True if the string is an identifier<br>\n",
    "islower()     - Returns True if all characters in the string are lower case<br>\n",
    "isnumeric()   - Returns True if all characters in the string are numeric<br>\n",
    "isprintable() - Returns True if all characters in the string are printable<br>\n",
    "isspace()     - Returns True if all characters in the string are whitespaces<br>\n",
    "istitle()     - Returns True if the string follows the rules of a title<br>\n",
    "isupper()     - Returns True if all characters in the string are upper case<br>\n",
    "join()        - Joins the elements of an iterable to the end of the string<br>\n",
    "ljust()       - Returns a left justified version of the string<br>\n",
    "lower()       - Converts a string into lower case<br>\n",
    "lstrip()      - Returns a left trim version of the string<br>\n",
    "maketrans()   - Returns a translation table to be used in translations <br>\n",
    "partition()   - Returns a tuple where the string is parted into three parts<br>\n",
    "replace()     - Returns a string where a specified value is replaced with a specified value<br>\n",
    "rfind()       - Searches the string for a specified value and returns the last position of where it was found<br>\n",
    "rindex()      - Searches the string for a specified value and returns the last position of where it was found<br>\n",
    "rjust()       - Returns a right justified version of the string<br>\n",
    "rpartition()  - Returns a tuple where the string is parted into three parts<br>\n",
    "rsplit()      - Splits the string at the specified separator, and returns a list<br>\n",
    "rstrip()      - Returns a right trim version of the string<br>\n",
    "split()       - Splits the string at the specified separator, and returns a list<br>\n",
    "splitlines()  - Splits the string at line breaks and returns a list<br>\n",
    "startswith()  - Returns true if the string starts with the specified value<br>\n",
    "strip()       - Returns a trimmed version of the string<br>\n",
    "swapcase()    - Swaps cases, lower case becomes upper case and vice versa<br>\n",
    "title()       - Converts the first character of each word to upper case<br>\n",
    "translate()   - Returns a translated string<br>\n",
    "upper()       - Converts a string into upper case<br>\n",
    "zfill()       - Fills the string with a specified number of 0 values at the beginning<br>"
   ]
  }
 ],
 "metadata": {
  "kernelspec": {
   "display_name": "Python 3",
   "language": "python",
   "name": "python3"
  },
  "language_info": {
   "codemirror_mode": {
    "name": "ipython",
    "version": 3
   },
   "file_extension": ".py",
   "mimetype": "text/x-python",
   "name": "python",
   "nbconvert_exporter": "python",
   "pygments_lexer": "ipython3",
   "version": "3.8.3"
  }
 },
 "nbformat": 4,
 "nbformat_minor": 4
}
