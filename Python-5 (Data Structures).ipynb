{
 "cells": [
  {
   "cell_type": "markdown",
   "metadata": {},
   "source": [
    "# Data Structures in Python\n",
    "* list\n",
    "* set\n",
    "* Tuple\n",
    "* dict"
   ]
  },
  {
   "cell_type": "markdown",
   "metadata": {},
   "source": [
    "## 1.LISTS\n",
    "LISTS are similar to arrays.<br>\n",
    "A list is an ordered collection of data values seperated by commas and enclosed in square brackets[ ] <br>\n",
    "* Order of the data Matters<br>\n",
    "* Mutable (so, we can modify the data in place)"
   ]
  },
  {
   "cell_type": "markdown",
   "metadata": {},
   "source": [
    "### Creating lists\n",
    "lists can be created by using\n",
    "* list()\n",
    "* [ ]"
   ]
  },
  {
   "cell_type": "code",
   "execution_count": 17,
   "metadata": {},
   "outputs": [
    {
     "name": "stdout",
     "output_type": "stream",
     "text": [
      "<class 'list'>\n",
      "[]\n",
      "[1, 2, 3]\n",
      "[12, 3.14, True, 'Hello', [1, 2]]\n",
      "[]\n",
      "<class 'list'>\n"
     ]
    }
   ],
   "source": [
    "l1 = []                         # empty list\n",
    "l2 = [1,2,3]                    # we can give the values to the list during creation\n",
    "l3 = [12,3.14,True,\"Hello\",[1,2]]     # We can store any type of values in a list\n",
    "l4=list()\n",
    "print(type(l1))\n",
    "print(l1)\n",
    "print(l2)\n",
    "print(l3)\n",
    "print(l4)\n",
    "print(type(l4))"
   ]
  },
  {
   "cell_type": "code",
   "execution_count": 2,
   "metadata": {},
   "outputs": [
    {
     "data": {
      "text/plain": [
       "[100]"
      ]
     },
     "execution_count": 2,
     "metadata": {},
     "output_type": "execute_result"
    }
   ],
   "source": [
    "l1.append(100)  # append() is used to add the given element to the end of the list\n",
    "l1"
   ]
  },
  {
   "cell_type": "code",
   "execution_count": 3,
   "metadata": {},
   "outputs": [
    {
     "data": {
      "text/plain": [
       "[12, 3.14, 'Hello', [1, 2]]"
      ]
     },
     "execution_count": 3,
     "metadata": {},
     "output_type": "execute_result"
    }
   ],
   "source": [
    "l3.remove(True) # remove() is used to remove an element from the list\n",
    "l3"
   ]
  },
  {
   "cell_type": "code",
   "execution_count": 4,
   "metadata": {},
   "outputs": [
    {
     "data": {
      "text/plain": [
       "['__add__',\n",
       " '__class__',\n",
       " '__contains__',\n",
       " '__delattr__',\n",
       " '__delitem__',\n",
       " '__dir__',\n",
       " '__doc__',\n",
       " '__eq__',\n",
       " '__format__',\n",
       " '__ge__',\n",
       " '__getattribute__',\n",
       " '__getitem__',\n",
       " '__gt__',\n",
       " '__hash__',\n",
       " '__iadd__',\n",
       " '__imul__',\n",
       " '__init__',\n",
       " '__init_subclass__',\n",
       " '__iter__',\n",
       " '__le__',\n",
       " '__len__',\n",
       " '__lt__',\n",
       " '__mul__',\n",
       " '__ne__',\n",
       " '__new__',\n",
       " '__reduce__',\n",
       " '__reduce_ex__',\n",
       " '__repr__',\n",
       " '__reversed__',\n",
       " '__rmul__',\n",
       " '__setattr__',\n",
       " '__setitem__',\n",
       " '__sizeof__',\n",
       " '__str__',\n",
       " '__subclasshook__',\n",
       " 'append',\n",
       " 'clear',\n",
       " 'copy',\n",
       " 'count',\n",
       " 'extend',\n",
       " 'index',\n",
       " 'insert',\n",
       " 'pop',\n",
       " 'remove',\n",
       " 'reverse',\n",
       " 'sort']"
      ]
     },
     "execution_count": 4,
     "metadata": {},
     "output_type": "execute_result"
    }
   ],
   "source": [
    "dir(l3)   # gives methods involved with it"
   ]
  },
  {
   "cell_type": "code",
   "execution_count": 5,
   "metadata": {},
   "outputs": [
    {
     "name": "stdout",
     "output_type": "stream",
     "text": [
      "Help on built-in function pop:\n",
      "\n",
      "pop(index=-1, /) method of builtins.list instance\n",
      "    Remove and return item at index (default last).\n",
      "    \n",
      "    Raises IndexError if list is empty or index is out of range.\n",
      "\n"
     ]
    }
   ],
   "source": [
    "help(l3.pop) # gives info about that function"
   ]
  },
  {
   "cell_type": "code",
   "execution_count": 6,
   "metadata": {},
   "outputs": [
    {
     "name": "stdout",
     "output_type": "stream",
     "text": [
      "[12, 'Hello', [1, 2]]\n",
      "3.14\n"
     ]
    }
   ],
   "source": [
    "val = l3.pop(1)  # poping the second element from the list l3...since, lists start with index 0 -> 2nd ele is at position 1 \n",
    "print(l3)\n",
    "print(val)"
   ]
  },
  {
   "cell_type": "markdown",
   "metadata": {},
   "source": [
    "##### List methods\n",
    "append()----Adds an element at the end of the list <br>\n",
    "clear()----Removes all the elements from the list<br>\n",
    "copy()----Returns a copy of the list<br>\n",
    "count()----Returns the number of elements with the specified value<br>\n",
    "extend()----Add the elements of a list (or any iterable), to the end of the current list<br>\n",
    "index()----Returns the index of the first element with the specified value<br>\n",
    "insert()----Adds an element at the specified position<br>\n",
    "pop()-----Removes the element at the specified position<br>\n",
    "remove()----Removes the first item with the specified value<br>\n",
    "reverse()----Reverses the order of the list<br>\n",
    "sort()-------Sorts the list<br>"
   ]
  },
  {
   "cell_type": "code",
   "execution_count": 7,
   "metadata": {},
   "outputs": [
    {
     "data": {
      "text/plain": [
       "[1, 2, 3, 3, 4.32, 'Python']"
      ]
     },
     "execution_count": 7,
     "metadata": {},
     "output_type": "execute_result"
    }
   ],
   "source": [
    "a=[1,2,3]\n",
    "b=[3,4.32,\"Python\"]\n",
    "\n",
    "a+b                # concatenation\n",
    "# In the output, the order doesn't change..Hence,in lists order is important"
   ]
  },
  {
   "cell_type": "code",
   "execution_count": 8,
   "metadata": {},
   "outputs": [
    {
     "data": {
      "text/plain": [
       "1"
      ]
     },
     "execution_count": 8,
     "metadata": {},
     "output_type": "execute_result"
    }
   ],
   "source": [
    "a[0]          # indexes in the list"
   ]
  },
  {
   "cell_type": "code",
   "execution_count": 9,
   "metadata": {},
   "outputs": [
    {
     "data": {
      "text/plain": [
       "[4.32, 'Python']"
      ]
     },
     "execution_count": 9,
     "metadata": {},
     "output_type": "execute_result"
    }
   ],
   "source": [
    "b[1:3]          # slicing in the list"
   ]
  },
  {
   "cell_type": "code",
   "execution_count": 10,
   "metadata": {},
   "outputs": [
    {
     "data": {
      "text/plain": [
       "[3, True, 'Python']"
      ]
     },
     "execution_count": 10,
     "metadata": {},
     "output_type": "execute_result"
    }
   ],
   "source": [
    "b[1]= True        # Changing values in the list\n",
    "b"
   ]
  },
  {
   "cell_type": "code",
   "execution_count": 16,
   "metadata": {},
   "outputs": [
    {
     "name": "stdout",
     "output_type": "stream",
     "text": [
      "2\n"
     ]
    },
    {
     "data": {
      "text/plain": [
       "[0, 1, '2']"
      ]
     },
     "execution_count": 16,
     "metadata": {},
     "output_type": "execute_result"
    }
   ],
   "source": [
    "groceries=[0,1]\n",
    "\n",
    "groceries.append(input())\n",
    "\n",
    "groceries"
   ]
  },
  {
   "cell_type": "markdown",
   "metadata": {},
   "source": [
    "## 2.SETS\n",
    "Sets are also collection of values like lists.<br>\n",
    "While lists are denoted by [ ] , sets are denoted by { } <br>\n",
    "* Order doesn't matters\n",
    "* Frequency of elements doesn't matter => Duplicates are not allowed in the sets\n",
    "* Mutable"
   ]
  },
  {
   "cell_type": "markdown",
   "metadata": {},
   "source": [
    "##### Creating sets\n",
    "Sets can be created by using\n",
    "* set()\n",
    "* { }\n",
    "* Note: We cannot create empty set using { }, bcoz it's reserved for dictionaries"
   ]
  },
  {
   "cell_type": "code",
   "execution_count": 63,
   "metadata": {},
   "outputs": [
    {
     "name": "stdout",
     "output_type": "stream",
     "text": [
      "<class 'set'>\n",
      "{1, 2, 3}\n",
      "<class 'set'>\n",
      "{'python', 100, True}\n"
     ]
    }
   ],
   "source": [
    "s={1,2,3}         # creating a set using {}\n",
    "print(type(s))\n",
    "print(s)\n",
    "s1=set()          # creating a set using set()\n",
    "print(type(s1))\n",
    "s1.add(100)       # add() is used to add elements\n",
    "s1.add(\"python\")\n",
    "s1.add(True)\n",
    "s1.add(100)\n",
    "print(s1)\n",
    "# Order may change in the output and '100' is taken only once,since duplicates not allowed"
   ]
  },
  {
   "cell_type": "markdown",
   "metadata": {},
   "source": [
    "###### To delete an element from a set, we can use following\n",
    "* remove()\n",
    "* discard()\n",
    "Difference between remove() and discard() is when we try to delete an element which is not in the set, remove() will raise an error, while the discard() doesn't."
   ]
  },
  {
   "cell_type": "code",
   "execution_count": 48,
   "metadata": {},
   "outputs": [
    {
     "name": "stdout",
     "output_type": "stream",
     "text": [
      "{20, 30}\n",
      "{30}\n"
     ]
    }
   ],
   "source": [
    "s2=set()\n",
    "s2.add(10)\n",
    "s2.add(20)\n",
    "s2.add(30)\n",
    "s2.remove(10)      # to delete element 10 from the set using remove()\n",
    "print(s2)\n",
    "s2.discard(20)     # to delete element 20 from the set using discard()\n",
    "print(s2)"
   ]
  },
  {
   "cell_type": "code",
   "execution_count": 49,
   "metadata": {},
   "outputs": [
    {
     "name": "stdout",
     "output_type": "stream",
     "text": [
      "{10, 20, 30}\n"
     ]
    }
   ],
   "source": [
    "s3={10,20,30}\n",
    "s3.discard(40)    # discard() doesn't gives error\n",
    "print(s3)"
   ]
  },
  {
   "cell_type": "code",
   "execution_count": 50,
   "metadata": {},
   "outputs": [
    {
     "ename": "KeyError",
     "evalue": "40",
     "output_type": "error",
     "traceback": [
      "\u001b[1;31m---------------------------------------------------------------------------\u001b[0m",
      "\u001b[1;31mKeyError\u001b[0m                                  Traceback (most recent call last)",
      "\u001b[1;32m<ipython-input-50-42f61067c6e5>\u001b[0m in \u001b[0;36m<module>\u001b[1;34m\u001b[0m\n\u001b[1;32m----> 1\u001b[1;33m \u001b[0ms3\u001b[0m\u001b[1;33m.\u001b[0m\u001b[0mremove\u001b[0m\u001b[1;33m(\u001b[0m\u001b[1;36m40\u001b[0m\u001b[1;33m)\u001b[0m    \u001b[1;31m# remove() gives error\u001b[0m\u001b[1;33m\u001b[0m\u001b[1;33m\u001b[0m\u001b[0m\n\u001b[0m\u001b[0;32m      2\u001b[0m \u001b[0mprint\u001b[0m\u001b[1;33m(\u001b[0m\u001b[0ms3\u001b[0m\u001b[1;33m)\u001b[0m\u001b[1;33m\u001b[0m\u001b[1;33m\u001b[0m\u001b[0m\n",
      "\u001b[1;31mKeyError\u001b[0m: 40"
     ]
    }
   ],
   "source": [
    "s3.remove(40)    # remove() gives error\n",
    "print(s3)"
   ]
  },
  {
   "cell_type": "markdown",
   "metadata": {},
   "source": [
    "#### Operations on sets\n",
    "* Union()\n",
    "* Intersection()"
   ]
  },
  {
   "cell_type": "code",
   "execution_count": 51,
   "metadata": {},
   "outputs": [
    {
     "name": "stdout",
     "output_type": "stream",
     "text": [
      "{1, 2, 3, 4, 5.2}\n"
     ]
    }
   ],
   "source": [
    "s1 = set({1,2,3})\n",
    "s2 = set({3,4,5.2})\n",
    "\n",
    "print(s1.union(s2))   # union() is used to union of two sets"
   ]
  },
  {
   "cell_type": "code",
   "execution_count": 52,
   "metadata": {},
   "outputs": [
    {
     "name": "stdout",
     "output_type": "stream",
     "text": [
      "{3}\n"
     ]
    }
   ],
   "source": [
    "print(s1.intersection(s2))  # intersection() is used to intersection of two sets"
   ]
  },
  {
   "cell_type": "markdown",
   "metadata": {},
   "source": [
    "##### Set Methods\n",
    "add()----Adds an element to the set <br>\n",
    "clear()----Removes all the elements from the set <br>\n",
    "copy()----Returns a copy of the set <br>\n",
    "difference()----Returns a set containing the difference between two or more sets <br>\n",
    "difference_update()----Removes the items in this set that are also included in another, specified set <br>\n",
    "discard()----Remove the specified item <br>\n",
    "intersection()----Returns a set, that is the intersection of two other sets <br>\n",
    "intersection_update()----Removes the items in this set that are not present in other, specified set(s) <br>\n",
    "isdisjoint()----Returns whether two sets have a intersection or not <br>\n",
    "issubset()---Returns whether another set contains this set or not <br>\n",
    "issuperset()----Returns whether this set contains another set or not <br>\n",
    "pop()----Removes an element from the set <br>\n",
    "remove()----Removes the specified element <br>\n",
    "symmetric_difference()----Returns a set with the symmetric differences of two sets <br>\n",
    "symmetric_difference_update()----inserts the symmetric differences from this set and another <br>\n",
    "union()----Return a set containing the union of sets <br>\n",
    "update()----Update the set with another set, or any other iterable <br>"
   ]
  },
  {
   "cell_type": "markdown",
   "metadata": {},
   "source": [
    "## 3.TUPLES\n",
    "Tuples are also collection of values similar to lists <br>\n",
    "Tuple is represented using ()\n",
    "* Order Matters\n",
    "* Immutable like strings. (Once created,cannot be changed)"
   ]
  },
  {
   "cell_type": "markdown",
   "metadata": {},
   "source": [
    "##### Creating Tuples\n",
    "Tuples can be created using\n",
    "* ()\n",
    "<br><br>"
   ]
  },
  {
   "cell_type": "markdown",
   "metadata": {},
   "source": [
    "=>  len() gives length of the tuple i.e., the no of elements in the tuple"
   ]
  },
  {
   "cell_type": "code",
   "execution_count": 53,
   "metadata": {},
   "outputs": [
    {
     "name": "stdout",
     "output_type": "stream",
     "text": [
      "<class 'tuple'>\n",
      "(1, 3, True, 'Hello')\n",
      "4\n"
     ]
    }
   ],
   "source": [
    "t1=(1,3,True,\"Hello\")   # creating a tuple\n",
    "print(type(t1))\n",
    "print(t1)\n",
    "print(len(t1))        # len() gives length of the tuple"
   ]
  },
  {
   "cell_type": "markdown",
   "metadata": {},
   "source": [
    "##### Tuple methods\n",
    "Since,tuples are immutable, they have only two methods <br><br>\n",
    "count()----Returns the number of times a specified value occurs in a tuple<br>\n",
    "index()----Searches the tuple for a specified value and returns the position of where it was found.(It gives first occurance, if the value present more than once)"
   ]
  },
  {
   "cell_type": "code",
   "execution_count": 54,
   "metadata": {},
   "outputs": [
    {
     "name": "stdout",
     "output_type": "stream",
     "text": [
      "4\n",
      "2\n"
     ]
    }
   ],
   "source": [
    "t2=(1,3,4,1,4,3,4,5,6,4)\n",
    "print(t2.count(4))       # counting no of times 4 occurs\n",
    "print(t2.index(4))       # gives index position of 4...It returns first occurance of 4"
   ]
  },
  {
   "cell_type": "markdown",
   "metadata": {},
   "source": [
    "#### Uses of tuples\n",
    "* Faster Accessing than lists \n",
    "* Memory efficient than lists\n",
    "* Assigning multiple variables is easier in tuples than lists"
   ]
  },
  {
   "cell_type": "code",
   "execution_count": 55,
   "metadata": {},
   "outputs": [
    {
     "name": "stdout",
     "output_type": "stream",
     "text": [
      "104\n",
      "88\n"
     ]
    }
   ],
   "source": [
    "# Demonstrating tuples are memory efficient compared to the lists\n",
    "import sys\n",
    "list1=[1,2,3,4,5,6]\n",
    "t3=(1,2,3,4,5,6)\n",
    "print(sys.getsizeof(list1))\n",
    "print(sys.getsizeof(t3))"
   ]
  },
  {
   "cell_type": "code",
   "execution_count": 56,
   "metadata": {},
   "outputs": [
    {
     "name": "stdout",
     "output_type": "stream",
     "text": [
      "25 120 60\n",
      "30 150 70\n"
     ]
    }
   ],
   "source": [
    "# Demonstrating assigning multiple variables is easier in tuples than lists\n",
    "list2 = [25,120,60]\n",
    "t4 = (30,150,70)\n",
    "\n",
    "# using lists\n",
    "age = list2[0]\n",
    "height = list2[1]\n",
    "weight = list2[2]\n",
    "print(age,height,weight)\n",
    "\n",
    "# using tuples\n",
    "age,height,weight = t4\n",
    "print(age,height,weight)"
   ]
  },
  {
   "cell_type": "markdown",
   "metadata": {},
   "source": [
    "## 4.DICTIONARIES\n",
    "Dictionaries are similar to associative arrays<br>\n",
    "Used for key-value mapped data <br>\n",
    "* Order doesn't matters\n",
    "* Mutable"
   ]
  },
  {
   "cell_type": "markdown",
   "metadata": {},
   "source": [
    "##### Creating dictionaries\n",
    "Dictionaries are creating by using\n",
    "* dict()\n",
    "* { }"
   ]
  },
  {
   "cell_type": "code",
   "execution_count": 70,
   "metadata": {},
   "outputs": [
    {
     "name": "stdout",
     "output_type": "stream",
     "text": [
      "<class 'dict'>\n",
      "{'Name': 'Likhitha', 'Rollno': '12', 'percentage': '93'}\n",
      "<class 'dict'>\n",
      "{'name': 'Jay', 'rollno': '13'}\n"
     ]
    }
   ],
   "source": [
    "s1 = {\"Name\":\"Likhitha\",\"Rollno\":\"12\",\"percentage\":\"93\"}  # creating dict using {} and elements are key:value pairs\n",
    "print(type(s1))\n",
    "print(s1)\n",
    "s2 = dict(name=\"Jay\",rollno=\"13\")                     # creating dict using dict() constructor\n",
    "print(type(s2))\n",
    "print(s2)"
   ]
  },
  {
   "cell_type": "markdown",
   "metadata": {},
   "source": [
    "<br>\n",
    "* In dict, any immutable data can be a key <br>\n",
    "* And, any mutable or immutable data can be a value.<br>\n",
    "<br>\n",
    "* We can access individual data as follows"
   ]
  },
  {
   "cell_type": "code",
   "execution_count": 71,
   "metadata": {},
   "outputs": [
    {
     "name": "stdout",
     "output_type": "stream",
     "text": [
      "Likhitha\n"
     ]
    }
   ],
   "source": [
    "print(s1[\"Name\"])"
   ]
  },
  {
   "cell_type": "code",
   "execution_count": 73,
   "metadata": {},
   "outputs": [
    {
     "name": "stdout",
     "output_type": "stream",
     "text": [
      "{'name': 'Jay', 'rollno': '13'}\n",
      "{'name': 'Jay', 'rollno': '13', 'Percentage': (78, 80, 90, 95)}\n"
     ]
    }
   ],
   "source": [
    "# Adding new value into the dictionary\n",
    "s2 = dict(name=\"Jay\",rollno=\"13\")\n",
    "print(s2)\n",
    "s2[\"Percentage\"] = (78,80,90,95)\n",
    "print(s2)"
   ]
  },
  {
   "cell_type": "code",
   "execution_count": 75,
   "metadata": {},
   "outputs": [
    {
     "name": "stdout",
     "output_type": "stream",
     "text": [
      "<class 'dict'>\n",
      "{}\n"
     ]
    }
   ],
   "source": [
    "# Creating empty dictionary\n",
    "s2={}\n",
    "print(type(s2))\n",
    "print(s2)"
   ]
  },
  {
   "cell_type": "markdown",
   "metadata": {},
   "source": [
    "### Dictionary Methods\n",
    "clear()----Removes all the elements from the dictionary<br>\n",
    "copy()----Returns a copy of the dictionary<br>\n",
    "fromkeys()----Returns a dictionary with the specified keys and value<br>\n",
    "get()----Returns the value of the specified key\n",
    "items()----Returns a list containing a tuple for each key value pair<br>\n",
    "keys()----Returns a list containing the dictionary's keys<br>\n",
    "pop()----Removes the element with the specified key<br>\n",
    "popitem()----Removes the last inserted key-value pair<br>\n",
    "setdefault()----Returns the value of the specified key. If the key does not exist: insert the key, with the specified value<br>\n",
    "update()----Updates the dictionary with the specified key-value pairs<br>\n",
    "values()----Returns a list of all the values in the dictionary"
   ]
  }
 ],
 "metadata": {
  "kernelspec": {
   "display_name": "Python 3",
   "language": "python",
   "name": "python3"
  },
  "language_info": {
   "codemirror_mode": {
    "name": "ipython",
    "version": 3
   },
   "file_extension": ".py",
   "mimetype": "text/x-python",
   "name": "python",
   "nbconvert_exporter": "python",
   "pygments_lexer": "ipython3",
   "version": "3.8.3"
  }
 },
 "nbformat": 4,
 "nbformat_minor": 4
}
