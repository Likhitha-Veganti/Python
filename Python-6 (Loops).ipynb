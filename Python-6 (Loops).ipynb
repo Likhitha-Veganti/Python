{
 "cells": [
  {
   "cell_type": "markdown",
   "metadata": {},
   "source": [
    "# Loops\n",
    "Loops can be used to avoid repetition of the code multiple times<br>\n",
    "Python has 2 loops\n",
    "* for\n",
    "* while<br>"
   ]
  },
  {
   "cell_type": "markdown",
   "metadata": {},
   "source": [
    "We can use loops to iterate through the values."
   ]
  },
  {
   "cell_type": "markdown",
   "metadata": {},
   "source": [
    "### for loop\n",
    "We can iterate through the values which are iterable i.e.,<br>\n",
    "String<br>\n",
    "Tuple<br>\n",
    "List<br>\n",
    "Set<br>\n",
    "Dictionary<br>\n",
    "any other iterable objects."
   ]
  },
  {
   "cell_type": "code",
   "execution_count": 1,
   "metadata": {},
   "outputs": [
    {
     "name": "stdout",
     "output_type": "stream",
     "text": [
      "Statement\n",
      "Statement\n",
      "Statement\n",
      "Statement\n",
      "Statement\n",
      "Statement\n"
     ]
    }
   ],
   "source": [
    "for i in range(6):\n",
    "    print(\"Statement\")"
   ]
  },
  {
   "cell_type": "code",
   "execution_count": 2,
   "metadata": {},
   "outputs": [
    {
     "name": "stdout",
     "output_type": "stream",
     "text": [
      "a\n",
      "b\n",
      "c\n",
      "d\n",
      "e\n",
      "f\n",
      "g\n",
      "h\n",
      "i\n",
      "j\n",
      "k\n",
      "l\n",
      "m\n",
      "n\n"
     ]
    }
   ],
   "source": [
    "studentsList=[\"a\",\"b\",\"c\",\"d\",\"e\",\"f\",\"g\",\"h\",\"i\",\"j\",\"k\",\"l\",\"m\",\"n\"]\n",
    "numbersList=[0,1,2,3,4,5,6,7,8]\n",
    "countriesList=[\"India\",\"US\",\"Russia\",\"Japan\",\"Australia\",\"UK\"]\n",
    "for i in studentsList:\n",
    "    print(i)"
   ]
  },
  {
   "cell_type": "code",
   "execution_count": 3,
   "metadata": {},
   "outputs": [
    {
     "name": "stdout",
     "output_type": "stream",
     "text": [
      "0\n",
      "1\n",
      "2\n",
      "3\n",
      "4\n",
      "5\n",
      "6\n",
      "7\n",
      "8\n"
     ]
    }
   ],
   "source": [
    "for i in numbersList:\n",
    "    print(i)"
   ]
  },
  {
   "cell_type": "code",
   "execution_count": 4,
   "metadata": {},
   "outputs": [
    {
     "name": "stdout",
     "output_type": "stream",
     "text": [
      "India\n",
      "US\n",
      "Russia\n",
      "Japan\n",
      "Australia\n",
      "UK\n"
     ]
    }
   ],
   "source": [
    "for i in countriesList:\n",
    "    print(i)"
   ]
  },
  {
   "cell_type": "markdown",
   "metadata": {},
   "source": [
    "###### range()\n",
    "* range(start,end+1,increment) #by default,increment=1,start=0"
   ]
  },
  {
   "cell_type": "code",
   "execution_count": 5,
   "metadata": {},
   "outputs": [
    {
     "name": "stdout",
     "output_type": "stream",
     "text": [
      "0\n",
      "1\n",
      "2\n",
      "3\n",
      "4\n",
      "5\n"
     ]
    }
   ],
   "source": [
    "for i in range(6):   # range fun takes 0 upto 6 values ie., 0 to 5\n",
    "    print(i)"
   ]
  },
  {
   "cell_type": "code",
   "execution_count": 6,
   "metadata": {},
   "outputs": [
    {
     "name": "stdout",
     "output_type": "stream",
     "text": [
      "6\n",
      "7\n",
      "8\n",
      "9\n"
     ]
    }
   ],
   "source": [
    "for i in range(6,10): # 6 upto 10 but not 10\n",
    "    print(i)"
   ]
  },
  {
   "cell_type": "code",
   "execution_count": 7,
   "metadata": {},
   "outputs": [
    {
     "name": "stdout",
     "output_type": "stream",
     "text": [
      "2\n",
      "4\n",
      "6\n",
      "8\n",
      "10\n"
     ]
    }
   ],
   "source": [
    "for i in range(2,12,2):\n",
    "    print(i)"
   ]
  },
  {
   "cell_type": "code",
   "execution_count": 8,
   "metadata": {},
   "outputs": [
    {
     "name": "stdout",
     "output_type": "stream",
     "text": [
      "10 * 1 = 10\n",
      "10 * 2 = 20\n",
      "10 * 3 = 30\n",
      "10 * 4 = 40\n",
      "10 * 5 = 50\n",
      "10 * 6 = 60\n",
      "10 * 7 = 70\n",
      "10 * 8 = 80\n",
      "10 * 9 = 90\n",
      "10 * 10 = 100\n",
      "11 * 1 = 11\n",
      "11 * 2 = 22\n",
      "11 * 3 = 33\n",
      "11 * 4 = 44\n",
      "11 * 5 = 55\n",
      "11 * 6 = 66\n",
      "11 * 7 = 77\n",
      "11 * 8 = 88\n",
      "11 * 9 = 99\n",
      "11 * 10 = 110\n",
      "12 * 1 = 12\n",
      "12 * 2 = 24\n",
      "12 * 3 = 36\n",
      "12 * 4 = 48\n",
      "12 * 5 = 60\n",
      "12 * 6 = 72\n",
      "12 * 7 = 84\n",
      "12 * 8 = 96\n",
      "12 * 9 = 108\n",
      "12 * 10 = 120\n",
      "13 * 1 = 13\n",
      "13 * 2 = 26\n",
      "13 * 3 = 39\n",
      "13 * 4 = 52\n",
      "13 * 5 = 65\n",
      "13 * 6 = 78\n",
      "13 * 7 = 91\n",
      "13 * 8 = 104\n",
      "13 * 9 = 117\n",
      "13 * 10 = 130\n",
      "14 * 1 = 14\n",
      "14 * 2 = 28\n",
      "14 * 3 = 42\n",
      "14 * 4 = 56\n",
      "14 * 5 = 70\n",
      "14 * 6 = 84\n",
      "14 * 7 = 98\n",
      "14 * 8 = 112\n",
      "14 * 9 = 126\n",
      "14 * 10 = 140\n",
      "15 * 1 = 15\n",
      "15 * 2 = 30\n",
      "15 * 3 = 45\n",
      "15 * 4 = 60\n",
      "15 * 5 = 75\n",
      "15 * 6 = 90\n",
      "15 * 7 = 105\n",
      "15 * 8 = 120\n",
      "15 * 9 = 135\n",
      "15 * 10 = 150\n",
      "16 * 1 = 16\n",
      "16 * 2 = 32\n",
      "16 * 3 = 48\n",
      "16 * 4 = 64\n",
      "16 * 5 = 80\n",
      "16 * 6 = 96\n",
      "16 * 7 = 112\n",
      "16 * 8 = 128\n",
      "16 * 9 = 144\n",
      "16 * 10 = 160\n",
      "17 * 1 = 17\n",
      "17 * 2 = 34\n",
      "17 * 3 = 51\n",
      "17 * 4 = 68\n",
      "17 * 5 = 85\n",
      "17 * 6 = 102\n",
      "17 * 7 = 119\n",
      "17 * 8 = 136\n",
      "17 * 9 = 153\n",
      "17 * 10 = 170\n",
      "18 * 1 = 18\n",
      "18 * 2 = 36\n",
      "18 * 3 = 54\n",
      "18 * 4 = 72\n",
      "18 * 5 = 90\n",
      "18 * 6 = 108\n",
      "18 * 7 = 126\n",
      "18 * 8 = 144\n",
      "18 * 9 = 162\n",
      "18 * 10 = 180\n",
      "19 * 1 = 19\n",
      "19 * 2 = 38\n",
      "19 * 3 = 57\n",
      "19 * 4 = 76\n",
      "19 * 5 = 95\n",
      "19 * 6 = 114\n",
      "19 * 7 = 133\n",
      "19 * 8 = 152\n",
      "19 * 9 = 171\n",
      "19 * 10 = 190\n",
      "20 * 1 = 20\n",
      "20 * 2 = 40\n",
      "20 * 3 = 60\n",
      "20 * 4 = 80\n",
      "20 * 5 = 100\n",
      "20 * 6 = 120\n",
      "20 * 7 = 140\n",
      "20 * 8 = 160\n",
      "20 * 9 = 180\n",
      "20 * 10 = 200\n"
     ]
    }
   ],
   "source": [
    "#Printing tables\n",
    "for x in range(10,21):\n",
    "    for y in range(1,11):\n",
    "        print(x,\"*\",y,\"=\",(x*y))"
   ]
  },
  {
   "cell_type": "code",
   "execution_count": 9,
   "metadata": {},
   "outputs": [
    {
     "name": "stdout",
     "output_type": "stream",
     "text": [
      "Number 20\n",
      "0\n",
      "2\n",
      "4\n",
      "6\n",
      "8\n",
      "10\n",
      "12\n",
      "14\n",
      "16\n",
      "18\n"
     ]
    }
   ],
   "source": [
    "# Even numbers less than given value\n",
    "a=int(input(\"Number \"))\n",
    "for i in range(0,a,2):\n",
    "    print(i)"
   ]
  },
  {
   "cell_type": "code",
   "execution_count": 10,
   "metadata": {},
   "outputs": [
    {
     "name": "stdout",
     "output_type": "stream",
     "text": [
      "Number 20\n",
      "0\n",
      "2\n",
      "4\n",
      "6\n",
      "8\n",
      "10\n",
      "12\n",
      "14\n",
      "16\n",
      "18\n"
     ]
    }
   ],
   "source": [
    "# Even numbers less than given value\n",
    "a=int(input(\"Number \"))\n",
    "for i in range(a):\n",
    "    if(i%2==0) :\n",
    "        print(i)"
   ]
  },
  {
   "cell_type": "markdown",
   "metadata": {},
   "source": [
    "### While loop"
   ]
  },
  {
   "cell_type": "code",
   "execution_count": 11,
   "metadata": {},
   "outputs": [
    {
     "name": "stdout",
     "output_type": "stream",
     "text": [
      "1\n",
      "2\n",
      "3\n",
      "4\n",
      "5\n",
      "6\n",
      "7\n",
      "8\n",
      "9\n",
      "10\n"
     ]
    }
   ],
   "source": [
    "i=1\n",
    "while i<=10 :\n",
    "    print(i)\n",
    "    i=i+1"
   ]
  },
  {
   "cell_type": "code",
   "execution_count": 12,
   "metadata": {},
   "outputs": [
    {
     "name": "stdout",
     "output_type": "stream",
     "text": [
      "2\n",
      "4\n",
      "6\n",
      "8\n",
      "10\n"
     ]
    }
   ],
   "source": [
    "i=1\n",
    "while i<=10 :\n",
    "    if(i%2==0) :\n",
    "        print(i)\n",
    "    i=i+1"
   ]
  },
  {
   "cell_type": "markdown",
   "metadata": {},
   "source": [
    "## break , continue & pass"
   ]
  },
  {
   "cell_type": "code",
   "execution_count": 13,
   "metadata": {},
   "outputs": [
    {
     "name": "stdout",
     "output_type": "stream",
     "text": [
      "0\n",
      "1\n",
      "2\n",
      "4\n",
      "5\n",
      "6\n",
      "7\n",
      "8\n",
      "9\n"
     ]
    }
   ],
   "source": [
    "# we don't want 3 value\n",
    "for i in range(10):\n",
    "    if i==3 :\n",
    "        continue\n",
    "    print(i)"
   ]
  },
  {
   "cell_type": "code",
   "execution_count": 14,
   "metadata": {},
   "outputs": [
    {
     "name": "stdout",
     "output_type": "stream",
     "text": [
      "1\n",
      "3\n",
      "5\n",
      "7\n",
      "9\n"
     ]
    }
   ],
   "source": [
    "#odd numbers\n",
    "for i in range(10):\n",
    "    if i%2 ==0:\n",
    "        continue\n",
    "    print(i)"
   ]
  },
  {
   "cell_type": "code",
   "execution_count": 15,
   "metadata": {},
   "outputs": [
    {
     "name": "stdout",
     "output_type": "stream",
     "text": [
      "0\n",
      "1\n",
      "2\n",
      "3\n",
      "4\n",
      "5\n"
     ]
    }
   ],
   "source": [
    "for i in range(10):\n",
    "    if i>5 :\n",
    "        break\n",
    "    print(i)"
   ]
  },
  {
   "cell_type": "code",
   "execution_count": 16,
   "metadata": {},
   "outputs": [
    {
     "name": "stdout",
     "output_type": "stream",
     "text": [
      "2\n",
      "3\n",
      "4\n",
      "5\n",
      "6\n"
     ]
    }
   ],
   "source": [
    "i=1\n",
    "while i<10:\n",
    "    i=i+1\n",
    "    print(i)\n",
    "    if i==6:\n",
    "        break"
   ]
  },
  {
   "cell_type": "code",
   "execution_count": 17,
   "metadata": {},
   "outputs": [
    {
     "name": "stdout",
     "output_type": "stream",
     "text": [
      "2\n",
      "3\n",
      "4\n",
      "5\n"
     ]
    }
   ],
   "source": [
    "i=1\n",
    "while i<10:\n",
    "    i=i+1\n",
    "    if i==6:\n",
    "        break\n",
    "    print(i)"
   ]
  },
  {
   "cell_type": "code",
   "execution_count": 18,
   "metadata": {},
   "outputs": [
    {
     "name": "stdout",
     "output_type": "stream",
     "text": [
      "2\n",
      "3\n",
      "4\n",
      "5\n",
      "7\n",
      "8\n",
      "9\n",
      "10\n"
     ]
    }
   ],
   "source": [
    "i=1\n",
    "while i<10:\n",
    "    i=i+1\n",
    "    if i==6:\n",
    "        continue\n",
    "    print(i)"
   ]
  },
  {
   "cell_type": "code",
   "execution_count": 19,
   "metadata": {},
   "outputs": [
    {
     "ename": "SyntaxError",
     "evalue": "unexpected EOF while parsing (<ipython-input-19-39d65b6213c2>, line 2)",
     "output_type": "error",
     "traceback": [
      "\u001b[1;36m  File \u001b[1;32m\"<ipython-input-19-39d65b6213c2>\"\u001b[1;36m, line \u001b[1;32m2\u001b[0m\n\u001b[1;33m    \u001b[0m\n\u001b[1;37m    ^\u001b[0m\n\u001b[1;31mSyntaxError\u001b[0m\u001b[1;31m:\u001b[0m unexpected EOF while parsing\n"
     ]
    }
   ],
   "source": [
    "for i in range(10):\n",
    "    "
   ]
  },
  {
   "cell_type": "code",
   "execution_count": 20,
   "metadata": {},
   "outputs": [],
   "source": [
    "for i in range(10):\n",
    "    pass"
   ]
  },
  {
   "cell_type": "markdown",
   "metadata": {},
   "source": [
    "### else"
   ]
  },
  {
   "cell_type": "code",
   "execution_count": 21,
   "metadata": {},
   "outputs": [
    {
     "name": "stdout",
     "output_type": "stream",
     "text": [
      "0\n",
      "1\n",
      "2\n",
      "3\n",
      "4\n",
      "5\n",
      "6\n",
      "7\n",
      "8\n",
      "9\n",
      "Loop finished\n"
     ]
    }
   ],
   "source": [
    "for i in range(10):\n",
    "    print(i)\n",
    "else:\n",
    "    print(\"Loop finished\")"
   ]
  },
  {
   "cell_type": "code",
   "execution_count": 22,
   "metadata": {},
   "outputs": [
    {
     "name": "stdout",
     "output_type": "stream",
     "text": [
      "1\n",
      "2\n",
      "3\n",
      "4\n",
      "5\n",
      "6\n",
      "7\n",
      "8\n",
      "9\n",
      "Loop finished\n"
     ]
    }
   ],
   "source": [
    "i=1\n",
    "while i<10:\n",
    "    print(i)\n",
    "    i=i+1\n",
    "else:\n",
    "    print(\"Loop finished\")"
   ]
  }
 ],
 "metadata": {
  "kernelspec": {
   "display_name": "Python 3",
   "language": "python",
   "name": "python3"
  },
  "language_info": {
   "codemirror_mode": {
    "name": "ipython",
    "version": 3
   },
   "file_extension": ".py",
   "mimetype": "text/x-python",
   "name": "python",
   "nbconvert_exporter": "python",
   "pygments_lexer": "ipython3",
   "version": "3.8.3"
  }
 },
 "nbformat": 4,
 "nbformat_minor": 4
}
