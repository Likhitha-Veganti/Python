{
 "cells": [
  {
   "cell_type": "markdown",
   "metadata": {},
   "source": [
    "# Object Oriented Programming\n",
    "Python is a multi-paradigm programming language.It supports different programming approaches.<br>\n",
    "<br>\n",
    "One of the popular approaches to solve a programming problem is by creating objects.<br>This is known as Object-Oriented Programming(OOP)."
   ]
  },
  {
   "cell_type": "markdown",
   "metadata": {},
   "source": [
    "## Class\n",
    "A Class is an entity that determines how an object will behave and what the object will contain.<br>\n",
    "In other words, it is a blueprint or a set of instruction to build a specific type of object."
   ]
  },
  {
   "cell_type": "markdown",
   "metadata": {},
   "source": [
    "## Object\n",
    "An object is a specimen of a class.<br>\n",
    "Software objects are often used to model real-world objects you find in everyday life.<br><br>\n",
    "Objects have\n",
    "* Properties\n",
    "* Behaviour"
   ]
  },
  {
   "cell_type": "markdown",
   "metadata": {},
   "source": [
    "WE CAN INSTANTIATE ONE OR MORE OBJECTS FOR A CLASS.<br>"
   ]
  },
  {
   "cell_type": "markdown",
   "metadata": {},
   "source": [
    "#### Constructor\n",
    "\"_ _init_ _\"  acts as a constructor in the class. (2 _ on each side of init)<br>\n",
    "Constructor is a method present in every class.<br>\n",
    "It is usually executed when you instantiate a new object."
   ]
  },
  {
   "cell_type": "markdown",
   "metadata": {},
   "source": [
    "### OOP Example 1"
   ]
  },
  {
   "cell_type": "code",
   "execution_count": 15,
   "metadata": {},
   "outputs": [],
   "source": [
    "class BankAccount:\n",
    "    def __init__(self,accHolderName,accNo,accBalance,isSavings,interestRate): #When obj is created,This method is called by default\n",
    "        self.accHolderName = accHolderName\n",
    "        self.accNo = accNo\n",
    "        self.accBalance = accBalance\n",
    "        self.isSavings = isSavings\n",
    "        self.interestRate = interestRate\n",
    "    \n",
    "    def withdrawAmount(self,x):  #In any method of class,we should have first argument as 'self'.It refers to the present object.\n",
    "        if self.accBalance - x < 0:\n",
    "            print(f\"Insufficient funds. Cannot dispense the amount Rs {x}\")\n",
    "        else:\n",
    "            self.accBalance -= x\n",
    "            print(f\"Dispenced Rs {x}. Account Blance Rs {self.accBalance}\")\n",
    "    \n",
    "    def depositAmount(self,x):\n",
    "        self.accBalance +=x\n",
    "        print(f\"Desposited Rs {x}. Account Balance Rs {self.accBalance}\")\n",
    "    \n",
    "    def addInterest(self):\n",
    "        self.accBalance += self.accBalance * self.interestRate /100\n",
    "    \n",
    "    def getStatement(self):\n",
    "        print(f\"\"\"\n",
    "        {\"Savings\" if self.isSavings else \"Current\"} account\n",
    "        Account number : {self.accNo}\n",
    "        Account Holder : {self.accHolderName}\n",
    "        balance : Rs {self.accBalance}\n",
    "        \"\"\")\n",
    "        "
   ]
  },
  {
   "cell_type": "code",
   "execution_count": 16,
   "metadata": {},
   "outputs": [],
   "source": [
    "b1 = BankAccount(\"John\",123456,500,True,5.02)\n",
    "b2 = BankAccount(\"Rishabh\",645789,8500,False,0)"
   ]
  },
  {
   "cell_type": "code",
   "execution_count": 17,
   "metadata": {},
   "outputs": [
    {
     "data": {
      "text/plain": [
       "'John'"
      ]
     },
     "execution_count": 17,
     "metadata": {},
     "output_type": "execute_result"
    }
   ],
   "source": [
    "b1.accHolderName"
   ]
  },
  {
   "cell_type": "code",
   "execution_count": 18,
   "metadata": {},
   "outputs": [
    {
     "data": {
      "text/plain": [
       "500"
      ]
     },
     "execution_count": 18,
     "metadata": {},
     "output_type": "execute_result"
    }
   ],
   "source": [
    "b1.accBalance"
   ]
  },
  {
   "cell_type": "code",
   "execution_count": 19,
   "metadata": {},
   "outputs": [
    {
     "name": "stdout",
     "output_type": "stream",
     "text": [
      "\n",
      "        Savings account\n",
      "        Account number : 123456\n",
      "        Account Holder : John\n",
      "        balance : Rs 500\n",
      "        \n"
     ]
    }
   ],
   "source": [
    "b1.getStatement()"
   ]
  },
  {
   "cell_type": "code",
   "execution_count": 20,
   "metadata": {},
   "outputs": [
    {
     "name": "stdout",
     "output_type": "stream",
     "text": [
      "\n",
      "        Current account\n",
      "        Account number : 645789\n",
      "        Account Holder : Rishabh\n",
      "        balance : Rs 8500\n",
      "        \n"
     ]
    }
   ],
   "source": [
    "b2.getStatement()"
   ]
  },
  {
   "cell_type": "code",
   "execution_count": 21,
   "metadata": {},
   "outputs": [
    {
     "name": "stdout",
     "output_type": "stream",
     "text": [
      "Insufficient funds. Cannot dispense the amount Rs 600\n"
     ]
    }
   ],
   "source": [
    "b1.withdrawAmount(600)"
   ]
  },
  {
   "cell_type": "code",
   "execution_count": 22,
   "metadata": {},
   "outputs": [
    {
     "name": "stdout",
     "output_type": "stream",
     "text": [
      "Dispenced Rs 200. Account Blance Rs 300\n"
     ]
    }
   ],
   "source": [
    "b1.withdrawAmount(200)"
   ]
  },
  {
   "cell_type": "code",
   "execution_count": 23,
   "metadata": {},
   "outputs": [
    {
     "name": "stdout",
     "output_type": "stream",
     "text": [
      "Desposited Rs 2000. Account Balance Rs 2300\n"
     ]
    }
   ],
   "source": [
    "b1.depositAmount(2000)"
   ]
  },
  {
   "cell_type": "code",
   "execution_count": 24,
   "metadata": {},
   "outputs": [],
   "source": [
    "b1.addInterest()"
   ]
  },
  {
   "cell_type": "code",
   "execution_count": 25,
   "metadata": {},
   "outputs": [
    {
     "data": {
      "text/plain": [
       "2415.46"
      ]
     },
     "execution_count": 25,
     "metadata": {},
     "output_type": "execute_result"
    }
   ],
   "source": [
    "b1.accBalance"
   ]
  },
  {
   "cell_type": "code",
   "execution_count": 27,
   "metadata": {},
   "outputs": [
    {
     "name": "stdout",
     "output_type": "stream",
     "text": [
      "\n",
      "        Savings account\n",
      "        Account number : 123456\n",
      "        Account Holder : John\n",
      "        balance : Rs 2415.46\n",
      "        \n"
     ]
    }
   ],
   "source": [
    "b1.getStatement()"
   ]
  },
  {
   "cell_type": "markdown",
   "metadata": {},
   "source": [
    "### OOP Example 2"
   ]
  },
  {
   "cell_type": "code",
   "execution_count": 34,
   "metadata": {},
   "outputs": [],
   "source": [
    "class Employee:\n",
    "    def __init__(self,firstName,lastName,sal):\n",
    "        self.incAmt = 7\n",
    "        self.firstName = firstName\n",
    "        self.lastName = lastName\n",
    "        self.sal = sal\n",
    "        self.emailID = self.firstName + \".\" + self.lastName + \"@gmail.com\"\n",
    "    def increment(self):\n",
    "        self.sal += self.sal * self.incAmt /100"
   ]
  },
  {
   "cell_type": "code",
   "execution_count": 35,
   "metadata": {},
   "outputs": [],
   "source": [
    "e1=Employee(\"John\",\"Doe\",30000)"
   ]
  },
  {
   "cell_type": "code",
   "execution_count": 36,
   "metadata": {},
   "outputs": [
    {
     "name": "stdout",
     "output_type": "stream",
     "text": [
      "John\n",
      "Doe\n",
      "John.Doe@gmail.com\n",
      "30000\n"
     ]
    }
   ],
   "source": [
    "print(e1.firstName)\n",
    "print(e1.lastName)\n",
    "print(e1.emailID)\n",
    "print(e1.sal)"
   ]
  },
  {
   "cell_type": "code",
   "execution_count": 37,
   "metadata": {},
   "outputs": [
    {
     "name": "stdout",
     "output_type": "stream",
     "text": [
      "32100.0\n"
     ]
    }
   ],
   "source": [
    "e1.increment()\n",
    "print(e1.sal)"
   ]
  },
  {
   "cell_type": "markdown",
   "metadata": {},
   "source": [
    "### OOP Example 3"
   ]
  },
  {
   "cell_type": "code",
   "execution_count": 39,
   "metadata": {},
   "outputs": [],
   "source": [
    "class Developer:\n",
    "    def __init__(self,firstName,lastName,sal,progLang):\n",
    "        self.incAmt = 15\n",
    "        self.firstName = firstName\n",
    "        self.lastName = lastName\n",
    "        self.sal = sal\n",
    "        self.emailID = self.firstName + \".\" + self.lastName + \"@gmail.com\"\n",
    "        self.progLang =  progLang\n",
    "    def increment(self):\n",
    "        self.sal += self.sal * self.incAmt /100"
   ]
  },
  {
   "cell_type": "code",
   "execution_count": 40,
   "metadata": {},
   "outputs": [],
   "source": [
    "d1=Developer(\"Walter\",\"White\",50000,\"Python\")"
   ]
  },
  {
   "cell_type": "code",
   "execution_count": 41,
   "metadata": {},
   "outputs": [
    {
     "name": "stdout",
     "output_type": "stream",
     "text": [
      "Walter\n",
      "White\n",
      "Walter.White@gmail.com\n",
      "50000\n",
      "Python\n"
     ]
    }
   ],
   "source": [
    "print(d1.firstName)\n",
    "print(d1.lastName)\n",
    "print(d1.emailID)\n",
    "print(d1.sal)\n",
    "print(d1.progLang)"
   ]
  },
  {
   "cell_type": "code",
   "execution_count": 42,
   "metadata": {},
   "outputs": [
    {
     "name": "stdout",
     "output_type": "stream",
     "text": [
      "57500.0\n"
     ]
    }
   ],
   "source": [
    "d1.increment()\n",
    "print(d1.sal)"
   ]
  },
  {
   "cell_type": "markdown",
   "metadata": {},
   "source": [
    "## Inheritance\n",
    "Reusing properties and functionalities of parent class into our child class"
   ]
  },
  {
   "cell_type": "markdown",
   "metadata": {},
   "source": [
    "### OOP Example 4"
   ]
  },
  {
   "cell_type": "code",
   "execution_count": 48,
   "metadata": {},
   "outputs": [],
   "source": [
    "class Employee:\n",
    "    def __init__(self,firstName,lastName,sal):\n",
    "        self.incAmt = 15\n",
    "        self.firstName = firstName\n",
    "        self.lastName = lastName\n",
    "        self.sal = sal\n",
    "        self.emailID = self.firstName + \".\" + self.lastName + \"@gmail.com\"\n",
    "    def increment(self):\n",
    "        self.sal += self.sal * self.incAmt /100"
   ]
  },
  {
   "cell_type": "code",
   "execution_count": 49,
   "metadata": {},
   "outputs": [],
   "source": [
    "class Developer(Employee):\n",
    "    def __init__(self,firstName,lastName,sal,progLang):\n",
    "        super().__init__(firstName,lastName,sal)\n",
    "        self.incAmt = 15\n",
    "        self.progLang =  progLang"
   ]
  },
  {
   "cell_type": "code",
   "execution_count": 50,
   "metadata": {},
   "outputs": [],
   "source": [
    "d2 = Developer(\"Jesse\",\"Pinkman\",40000,\"Java\")"
   ]
  },
  {
   "cell_type": "code",
   "execution_count": 51,
   "metadata": {},
   "outputs": [
    {
     "name": "stdout",
     "output_type": "stream",
     "text": [
      "Jesse\n",
      "Pinkman\n",
      "Jesse.Pinkman@gmail.com\n",
      "40000\n",
      "Java\n"
     ]
    }
   ],
   "source": [
    "print(d2.firstName)\n",
    "print(d2.lastName)\n",
    "print(d2.emailID)\n",
    "print(d2.sal)\n",
    "print(d2.progLang)"
   ]
  },
  {
   "cell_type": "code",
   "execution_count": 52,
   "metadata": {},
   "outputs": [
    {
     "name": "stdout",
     "output_type": "stream",
     "text": [
      "46000.0\n"
     ]
    }
   ],
   "source": [
    "d2.increment()\n",
    "print(d2.sal)"
   ]
  }
 ],
 "metadata": {
  "kernelspec": {
   "display_name": "Python 3",
   "language": "python",
   "name": "python3"
  },
  "language_info": {
   "codemirror_mode": {
    "name": "ipython",
    "version": 3
   },
   "file_extension": ".py",
   "mimetype": "text/x-python",
   "name": "python",
   "nbconvert_exporter": "python",
   "pygments_lexer": "ipython3",
   "version": "3.8.3"
  }
 },
 "nbformat": 4,
 "nbformat_minor": 4
}
