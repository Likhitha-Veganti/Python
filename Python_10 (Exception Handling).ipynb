{
 "cells": [
  {
   "cell_type": "markdown",
   "metadata": {},
   "source": [
    "## Exception Handling"
   ]
  },
  {
   "cell_type": "markdown",
   "metadata": {},
   "source": [
    "### try/except blocks"
   ]
  },
  {
   "cell_type": "code",
   "execution_count": 24,
   "metadata": {},
   "outputs": [
    {
     "name": "stdout",
     "output_type": "stream",
     "text": [
      "There is no such file\n"
     ]
    }
   ],
   "source": [
    "try:\n",
    "    f = open(\"helo.txt\",\"r\")\n",
    "    f.close()\n",
    "except:\n",
    "    print(\"There is no such file\")"
   ]
  },
  {
   "cell_type": "code",
   "execution_count": 28,
   "metadata": {},
   "outputs": [
    {
     "name": "stdout",
     "output_type": "stream",
     "text": [
      "There is no such file\n"
     ]
    }
   ],
   "source": [
    "try:\n",
    "    f = open(\"hello.txt\",\"r\")\n",
    "    f.close()\n",
    "    var= bad_var\n",
    "except:\n",
    "    print(\"There is no such file\")\n",
    "    \n",
    "# This is wrong bcoz error is not file not found"
   ]
  },
  {
   "cell_type": "code",
   "execution_count": 29,
   "metadata": {},
   "outputs": [
    {
     "name": "stdout",
     "output_type": "stream",
     "text": [
      "Oops! Something went wrong\n"
     ]
    }
   ],
   "source": [
    "try:\n",
    "    f = open(\"hello.txt\",\"r\")\n",
    "    var = bad_var\n",
    "except FileNotFoundError:     \n",
    "    print(\"There is no such file\")\n",
    "except Exception:\n",
    "    print(\"Oops! Something went wrong\")"
   ]
  },
  {
   "cell_type": "code",
   "execution_count": 32,
   "metadata": {},
   "outputs": [
    {
     "name": "stdout",
     "output_type": "stream",
     "text": [
      "name 'bad_var' is not defined\n",
      "I need to write this line\n"
     ]
    }
   ],
   "source": [
    "try:\n",
    "    f = open(\"hello.txt\",\"r\")\n",
    "    var = bad_var\n",
    "except FileNotFoundError as e:     \n",
    "    print(e)\n",
    "except Exception as e:\n",
    "    print(e)\n",
    "print(\"I need to write this line\")"
   ]
  },
  {
   "cell_type": "code",
   "execution_count": 33,
   "metadata": {},
   "outputs": [
    {
     "name": "stdout",
     "output_type": "stream",
     "text": [
      "[Errno 2] No such file or directory: 'helo.txt'\n"
     ]
    }
   ],
   "source": [
    "try:\n",
    "    f = open(\"helo.txt\",\"r\")\n",
    "    f.close()\n",
    "except FileNotFoundError as e:     \n",
    "    print(e)"
   ]
  },
  {
   "cell_type": "code",
   "execution_count": 34,
   "metadata": {},
   "outputs": [
    {
     "name": "stdout",
     "output_type": "stream",
     "text": [
      "[Errno 2] No such file or directory: 'helo.txt'\n",
      "I need to write this line\n"
     ]
    }
   ],
   "source": [
    "try:\n",
    "    f = open(\"helo.txt\",\"r\")\n",
    "except FileNotFoundError as e:     \n",
    "    print(e)\n",
    "except Exception as e:\n",
    "    print(e)\n",
    "print(\"I need to write this line\")"
   ]
  },
  {
   "cell_type": "markdown",
   "metadata": {},
   "source": [
    "### else blocks"
   ]
  },
  {
   "cell_type": "code",
   "execution_count": 36,
   "metadata": {},
   "outputs": [
    {
     "name": "stdout",
     "output_type": "stream",
     "text": [
      "Hello user\n",
      "I need to print this line\n"
     ]
    }
   ],
   "source": [
    "try:\n",
    "    f = open(\"hello.txt\",\"r\")\n",
    "except FileNotFoundError as e:     \n",
    "    print(e)\n",
    "except Exception as e:\n",
    "    print(e)\n",
    "else :            #Runs if no exception is thrown\n",
    "    print(f.read())\n",
    "    f.close()\n",
    "print(\"I need to print this line\")"
   ]
  },
  {
   "cell_type": "markdown",
   "metadata": {},
   "source": [
    "### finally block"
   ]
  },
  {
   "cell_type": "code",
   "execution_count": 37,
   "metadata": {},
   "outputs": [
    {
     "name": "stdout",
     "output_type": "stream",
     "text": [
      "Hello user\n",
      "I need to print this line\n"
     ]
    }
   ],
   "source": [
    "try:\n",
    "    f = open(\"hello.txt\",\"r\")\n",
    "except FileNotFoundError as e:     \n",
    "    print(e)\n",
    "except Exception as e:\n",
    "    print(e)\n",
    "else :            # Runs if no exception is thrown\n",
    "    print(f.read())\n",
    "    f.close()\n",
    "finally:          # Runs no matter what (Exception or No exception)\n",
    "    print(\"I need to print this line\")"
   ]
  },
  {
   "cell_type": "code",
   "execution_count": 38,
   "metadata": {},
   "outputs": [
    {
     "name": "stdout",
     "output_type": "stream",
     "text": [
      "[Errno 2] No such file or directory: 'helo.txt'\n",
      "I need to print this line\n"
     ]
    }
   ],
   "source": [
    "try:\n",
    "    f = open(\"helo.txt\",\"r\")\n",
    "except FileNotFoundError as e:     \n",
    "    print(e)\n",
    "except Exception as e:\n",
    "    print(e)\n",
    "else :            # Runs if no exception is thrown\n",
    "    print(f.read())\n",
    "    f.close()\n",
    "finally:          # Runs no matter what (Exception or No exception)\n",
    "    print(\"I need to print this line\")"
   ]
  },
  {
   "cell_type": "markdown",
   "metadata": {},
   "source": [
    "### Raising own exception"
   ]
  },
  {
   "cell_type": "code",
   "execution_count": 44,
   "metadata": {},
   "outputs": [
    {
     "name": "stdout",
     "output_type": "stream",
     "text": [
      "Error\n",
      "I need to print this line\n"
     ]
    }
   ],
   "source": [
    "try:\n",
    "    f = open(\"hello.txt\",\"r\")\n",
    "    if f.read(1) == \"H\":\n",
    "        raise Exception\n",
    "except FileNotFoundError as e:     \n",
    "    print(e)\n",
    "except Exception as e:\n",
    "    print(\"Error\")\n",
    "else :            # Runs if no exception is thrown\n",
    "    print(f.read())\n",
    "    f.close()\n",
    "finally:          # Runs no matter what (Exception or No exception)\n",
    "    print(\"I need to print this line\")"
   ]
  }
 ],
 "metadata": {
  "kernelspec": {
   "display_name": "Python 3",
   "language": "python",
   "name": "python3"
  },
  "language_info": {
   "codemirror_mode": {
    "name": "ipython",
    "version": 3
   },
   "file_extension": ".py",
   "mimetype": "text/x-python",
   "name": "python",
   "nbconvert_exporter": "python",
   "pygments_lexer": "ipython3",
   "version": "3.8.3"
  }
 },
 "nbformat": 4,
 "nbformat_minor": 4
}
