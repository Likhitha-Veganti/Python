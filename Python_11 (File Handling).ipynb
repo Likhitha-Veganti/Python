{
 "cells": [
  {
   "cell_type": "markdown",
   "metadata": {},
   "source": [
    "# File Handling"
   ]
  },
  {
   "cell_type": "markdown",
   "metadata": {},
   "source": [
    "## Modes"
   ]
  },
  {
   "cell_type": "raw",
   "metadata": {},
   "source": [
    "r = read mode\n",
    "w = write mode\n",
    "a = append mode"
   ]
  },
  {
   "cell_type": "markdown",
   "metadata": {},
   "source": [
    "## Writing to files"
   ]
  },
  {
   "cell_type": "code",
   "execution_count": 3,
   "metadata": {},
   "outputs": [
    {
     "name": "stdout",
     "output_type": "stream",
     "text": [
      "test.txt\n",
      "w\n",
      "False\n",
      "True\n"
     ]
    }
   ],
   "source": [
    "# creating a file object\n",
    "f = open(\"test.txt\",\"w\")  # Whenever we open a file in w mode that doesn't exist, it will create a new file\n",
    "\n",
    "f.write(\"Hello there! \\n\")\n",
    "f.write(\"How are you doing? \\n\")\n",
    "\n",
    "print(f.name)\n",
    "print(f.mode)\n",
    "print(f.closed)\n",
    "\n",
    "# Closing the file\n",
    "f.close()\n",
    "print(f.closed)"
   ]
  },
  {
   "cell_type": "code",
   "execution_count": 2,
   "metadata": {},
   "outputs": [],
   "source": [
    "f = open(\"test.txt\",\"w\")    # In w mode, it rewrites the file by erasing previous data\n",
    "\n",
    "f.write(\"I'm good \\n\")\n",
    "f.write(\"How about you? \\n\")\n",
    "\n",
    "f.close()"
   ]
  },
  {
   "cell_type": "markdown",
   "metadata": {},
   "source": [
    "## Appending to a file"
   ]
  },
  {
   "cell_type": "code",
   "execution_count": 4,
   "metadata": {},
   "outputs": [],
   "source": [
    "f = open(\"test.txt\",\"a\")    # In a mode, it appends new data to previous data\n",
    "\n",
    "f.write(\"I'm good \\n\")\n",
    "f.write(\"How about you? \\n\")\n",
    "\n",
    "f.close()"
   ]
  },
  {
   "cell_type": "markdown",
   "metadata": {},
   "source": [
    "## Reading from files"
   ]
  },
  {
   "cell_type": "code",
   "execution_count": 7,
   "metadata": {},
   "outputs": [
    {
     "name": "stdout",
     "output_type": "stream",
     "text": [
      "Hello there! \n",
      "How are you doing? \n",
      "I'm good \n",
      "How about you? \n",
      "\n",
      "[]\n"
     ]
    }
   ],
   "source": [
    "f = open(\"test.txt\",\"r\")\n",
    "\n",
    "# Reading the entire file data\n",
    "data = f.read()\n",
    "print(data)\n",
    "\n",
    "# Reading all the lines in the file as a list of strings\n",
    "data = f.readlines()  # We get empty list bcoz the cursor is at end of file due to previous read operation\n",
    "print(data)\n",
    "\n",
    "f.close()"
   ]
  },
  {
   "cell_type": "code",
   "execution_count": 8,
   "metadata": {},
   "outputs": [
    {
     "name": "stdout",
     "output_type": "stream",
     "text": [
      "Hello there! \n",
      "How are you doing? \n",
      "I'm good \n",
      "How about you? \n",
      "\n",
      "['Hello there! \\n', 'How are you doing? \\n', \"I'm good \\n\", 'How about you? \\n']\n"
     ]
    }
   ],
   "source": [
    "f = open(\"test.txt\",\"r\")\n",
    "\n",
    "# Reading the entire file data\n",
    "data = f.read()\n",
    "print(data)\n",
    "\n",
    "# Moving the cursor to the begining of the file\n",
    "f.seek(0)\n",
    "\n",
    "# Reading all the lines in the file as a list of strings\n",
    "data = f.readlines() \n",
    "print(data)\n",
    "\n",
    "f.close()"
   ]
  },
  {
   "cell_type": "code",
   "execution_count": 9,
   "metadata": {},
   "outputs": [
    {
     "name": "stdout",
     "output_type": "stream",
     "text": [
      "Hello there! \n",
      "How are you doing? \n",
      "I'm good \n",
      "How about you? \n",
      "\n",
      "['ere! \\n', 'How are you doing? \\n', \"I'm good \\n\", 'How about you? \\n']\n"
     ]
    }
   ],
   "source": [
    "f = open(\"test.txt\",\"r\")\n",
    "\n",
    "# Reading the entire file data\n",
    "data = f.read()\n",
    "print(data)\n",
    "\n",
    "# Moving the cursor to the 8th position of the file\n",
    "f.seek(8)\n",
    "\n",
    "# Reading all the lines in the file as a list of strings\n",
    "data = f.readlines() \n",
    "print(data)\n",
    "\n",
    "f.close()"
   ]
  },
  {
   "cell_type": "code",
   "execution_count": 13,
   "metadata": {},
   "outputs": [
    {
     "name": "stdout",
     "output_type": "stream",
     "text": [
      "Hello there! \n",
      "\n",
      "How are you doing? \n",
      "\n"
     ]
    }
   ],
   "source": [
    "f = open(\"test.txt\",\"r\")\n",
    "\n",
    "# Reading one line at a time\n",
    "line = f.readline() \n",
    "print(line)\n",
    "\n",
    "line = f.readline() \n",
    "print(line)\n",
    "\n",
    "f.close()"
   ]
  },
  {
   "cell_type": "code",
   "execution_count": 14,
   "metadata": {},
   "outputs": [
    {
     "name": "stdout",
     "output_type": "stream",
     "text": [
      "Hello there! \n",
      "\n",
      "How are you doing? \n",
      "\n",
      "I'm good \n",
      "\n",
      "How about you? \n",
      "\n"
     ]
    }
   ],
   "source": [
    "f = open(\"test.txt\",\"r\")\n",
    "\n",
    "# Reading lines using a for loop\n",
    "for line in f:\n",
    "    print(line)\n",
    "    \n",
    "f.close()"
   ]
  },
  {
   "cell_type": "code",
   "execution_count": 15,
   "metadata": {},
   "outputs": [
    {
     "name": "stdout",
     "output_type": "stream",
     "text": [
      "Hello ther\n",
      "10\n"
     ]
    }
   ],
   "source": [
    "f = open(\"test.txt\",\"r\")\n",
    "\n",
    "# Reading the first 10 characters in the file\n",
    "data=f.read(10)\n",
    "print(data)\n",
    "\n",
    "print(f.tell())\n",
    "\n",
    "f.close()"
   ]
  },
  {
   "cell_type": "markdown",
   "metadata": {},
   "source": [
    "## Using Context Manager"
   ]
  },
  {
   "cell_type": "code",
   "execution_count": 17,
   "metadata": {},
   "outputs": [
    {
     "name": "stdout",
     "output_type": "stream",
     "text": [
      "Hello there! \n",
      "\n",
      "How are you doing? \n",
      "\n",
      "I'm good \n",
      "\n",
      "How about you? \n",
      "\n",
      "False\n",
      "True\n"
     ]
    }
   ],
   "source": [
    "with open(\"test.txt\",\"r\") as f: # file directly closes when we go out of with block\n",
    "    \n",
    "    for line in f:\n",
    "        print(line)\n",
    "        \n",
    "    print(f.closed)\n",
    "\n",
    "print(f.closed)"
   ]
  },
  {
   "cell_type": "markdown",
   "metadata": {},
   "source": [
    "### Example\n",
    "Copying an image using python file operations"
   ]
  },
  {
   "cell_type": "code",
   "execution_count": 22,
   "metadata": {},
   "outputs": [],
   "source": [
    "with open(\"img1.jpg\",\"rb\") as img1:\n",
    "    with open(\"img2.jpg\",\"wb\") as img2:\n",
    "        data = img1.read()\n",
    "        img2.write(data)        "
   ]
  }
 ],
 "metadata": {
  "kernelspec": {
   "display_name": "Python 3",
   "language": "python",
   "name": "python3"
  },
  "language_info": {
   "codemirror_mode": {
    "name": "ipython",
    "version": 3
   },
   "file_extension": ".py",
   "mimetype": "text/x-python",
   "name": "python",
   "nbconvert_exporter": "python",
   "pygments_lexer": "ipython3",
   "version": "3.8.3"
  }
 },
 "nbformat": 4,
 "nbformat_minor": 4
}
